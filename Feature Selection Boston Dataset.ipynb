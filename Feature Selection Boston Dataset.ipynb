{
 "cells": [
  {
   "cell_type": "code",
   "execution_count": 14,
   "metadata": {},
   "outputs": [],
   "source": [
    "import numpy as np\n",
    "import matplotlib.pyplot as plt\n",
    "import seaborn as sns\n",
    "import pandas as pd\n",
    "from sklearn.datasets import load_boston\n",
    "from "
   ]
  },
  {
   "cell_type": "code",
   "execution_count": 33,
   "metadata": {},
   "outputs": [
    {
     "output_type": "execute_result",
     "data": {
      "text/plain": "     0.00632  18.00  2.310  0  0.5380  6.5750  65.20  4.0900  1  296.0  15.30  \\\n0    0.02731    0.0   7.07  0   0.469   6.421   78.9  4.9671  2  242.0   17.8   \n1    0.02729    0.0   7.07  0   0.469   7.185   61.1  4.9671  2  242.0   17.8   \n2    0.03237    0.0   2.18  0   0.458   6.998   45.8  6.0622  3  222.0   18.7   \n3    0.06905    0.0   2.18  0   0.458   7.147   54.2  6.0622  3  222.0   18.7   \n4    0.02985    0.0   2.18  0   0.458   6.430   58.7  6.0622  3  222.0   18.7   \n..       ...    ...    ... ..     ...     ...    ...     ... ..    ...    ...   \n500  0.06263    0.0  11.93  0   0.573   6.593   69.1  2.4786  1  273.0   21.0   \n501  0.04527    0.0  11.93  0   0.573   6.120   76.7  2.2875  1  273.0   21.0   \n502  0.06076    0.0  11.93  0   0.573   6.976   91.0  2.1675  1  273.0   21.0   \n503  0.10959    0.0  11.93  0   0.573   6.794   89.3  2.3889  1  273.0   21.0   \n504  0.04741    0.0  11.93  0   0.573   6.030   80.8  2.5050  1  273.0   21.0   \n\n     396.90  4.98  24.00  \n0    396.90  9.14   21.6  \n1    392.83  4.03   34.7  \n2    394.63  2.94   33.4  \n3    396.90  5.33   36.2  \n4    394.12  5.21   28.7  \n..      ...   ...    ...  \n500  391.99  9.67   22.4  \n501  396.90  9.08   20.6  \n502  396.90  5.64   23.9  \n503  393.45  6.48   22.0  \n504  396.90  7.88   11.9  \n\n[505 rows x 14 columns]",
      "text/html": "<div>\n<style scoped>\n    .dataframe tbody tr th:only-of-type {\n        vertical-align: middle;\n    }\n\n    .dataframe tbody tr th {\n        vertical-align: top;\n    }\n\n    .dataframe thead th {\n        text-align: right;\n    }\n</style>\n<table border=\"1\" class=\"dataframe\">\n  <thead>\n    <tr style=\"text-align: right;\">\n      <th></th>\n      <th>0.00632</th>\n      <th>18.00</th>\n      <th>2.310</th>\n      <th>0</th>\n      <th>0.5380</th>\n      <th>6.5750</th>\n      <th>65.20</th>\n      <th>4.0900</th>\n      <th>1</th>\n      <th>296.0</th>\n      <th>15.30</th>\n      <th>396.90</th>\n      <th>4.98</th>\n      <th>24.00</th>\n    </tr>\n  </thead>\n  <tbody>\n    <tr>\n      <th>0</th>\n      <td>0.02731</td>\n      <td>0.0</td>\n      <td>7.07</td>\n      <td>0</td>\n      <td>0.469</td>\n      <td>6.421</td>\n      <td>78.9</td>\n      <td>4.9671</td>\n      <td>2</td>\n      <td>242.0</td>\n      <td>17.8</td>\n      <td>396.90</td>\n      <td>9.14</td>\n      <td>21.6</td>\n    </tr>\n    <tr>\n      <th>1</th>\n      <td>0.02729</td>\n      <td>0.0</td>\n      <td>7.07</td>\n      <td>0</td>\n      <td>0.469</td>\n      <td>7.185</td>\n      <td>61.1</td>\n      <td>4.9671</td>\n      <td>2</td>\n      <td>242.0</td>\n      <td>17.8</td>\n      <td>392.83</td>\n      <td>4.03</td>\n      <td>34.7</td>\n    </tr>\n    <tr>\n      <th>2</th>\n      <td>0.03237</td>\n      <td>0.0</td>\n      <td>2.18</td>\n      <td>0</td>\n      <td>0.458</td>\n      <td>6.998</td>\n      <td>45.8</td>\n      <td>6.0622</td>\n      <td>3</td>\n      <td>222.0</td>\n      <td>18.7</td>\n      <td>394.63</td>\n      <td>2.94</td>\n      <td>33.4</td>\n    </tr>\n    <tr>\n      <th>3</th>\n      <td>0.06905</td>\n      <td>0.0</td>\n      <td>2.18</td>\n      <td>0</td>\n      <td>0.458</td>\n      <td>7.147</td>\n      <td>54.2</td>\n      <td>6.0622</td>\n      <td>3</td>\n      <td>222.0</td>\n      <td>18.7</td>\n      <td>396.90</td>\n      <td>5.33</td>\n      <td>36.2</td>\n    </tr>\n    <tr>\n      <th>4</th>\n      <td>0.02985</td>\n      <td>0.0</td>\n      <td>2.18</td>\n      <td>0</td>\n      <td>0.458</td>\n      <td>6.430</td>\n      <td>58.7</td>\n      <td>6.0622</td>\n      <td>3</td>\n      <td>222.0</td>\n      <td>18.7</td>\n      <td>394.12</td>\n      <td>5.21</td>\n      <td>28.7</td>\n    </tr>\n    <tr>\n      <th>...</th>\n      <td>...</td>\n      <td>...</td>\n      <td>...</td>\n      <td>...</td>\n      <td>...</td>\n      <td>...</td>\n      <td>...</td>\n      <td>...</td>\n      <td>...</td>\n      <td>...</td>\n      <td>...</td>\n      <td>...</td>\n      <td>...</td>\n      <td>...</td>\n    </tr>\n    <tr>\n      <th>500</th>\n      <td>0.06263</td>\n      <td>0.0</td>\n      <td>11.93</td>\n      <td>0</td>\n      <td>0.573</td>\n      <td>6.593</td>\n      <td>69.1</td>\n      <td>2.4786</td>\n      <td>1</td>\n      <td>273.0</td>\n      <td>21.0</td>\n      <td>391.99</td>\n      <td>9.67</td>\n      <td>22.4</td>\n    </tr>\n    <tr>\n      <th>501</th>\n      <td>0.04527</td>\n      <td>0.0</td>\n      <td>11.93</td>\n      <td>0</td>\n      <td>0.573</td>\n      <td>6.120</td>\n      <td>76.7</td>\n      <td>2.2875</td>\n      <td>1</td>\n      <td>273.0</td>\n      <td>21.0</td>\n      <td>396.90</td>\n      <td>9.08</td>\n      <td>20.6</td>\n    </tr>\n    <tr>\n      <th>502</th>\n      <td>0.06076</td>\n      <td>0.0</td>\n      <td>11.93</td>\n      <td>0</td>\n      <td>0.573</td>\n      <td>6.976</td>\n      <td>91.0</td>\n      <td>2.1675</td>\n      <td>1</td>\n      <td>273.0</td>\n      <td>21.0</td>\n      <td>396.90</td>\n      <td>5.64</td>\n      <td>23.9</td>\n    </tr>\n    <tr>\n      <th>503</th>\n      <td>0.10959</td>\n      <td>0.0</td>\n      <td>11.93</td>\n      <td>0</td>\n      <td>0.573</td>\n      <td>6.794</td>\n      <td>89.3</td>\n      <td>2.3889</td>\n      <td>1</td>\n      <td>273.0</td>\n      <td>21.0</td>\n      <td>393.45</td>\n      <td>6.48</td>\n      <td>22.0</td>\n    </tr>\n    <tr>\n      <th>504</th>\n      <td>0.04741</td>\n      <td>0.0</td>\n      <td>11.93</td>\n      <td>0</td>\n      <td>0.573</td>\n      <td>6.030</td>\n      <td>80.8</td>\n      <td>2.5050</td>\n      <td>1</td>\n      <td>273.0</td>\n      <td>21.0</td>\n      <td>396.90</td>\n      <td>7.88</td>\n      <td>11.9</td>\n    </tr>\n  </tbody>\n</table>\n<p>505 rows × 14 columns</p>\n</div>"
     },
     "metadata": {},
     "execution_count": 33
    }
   ],
   "source": [
    "boston_data=pd.read_csv('housing1.csv',delim_whitespace=3)\n",
    "boston_data"
   ]
  },
  {
   "cell_type": "code",
   "execution_count": 11,
   "metadata": {},
   "outputs": [
    {
     "output_type": "execute_result",
     "data": {
      "text/plain": "     0.00632  2.310  0.5380  6.5750  65.20  4.0900  1  296.0  15.30  396.90  \\\n0    0.02731   7.07   0.469   6.421   78.9  4.9671  2  242.0   17.8  396.90   \n1    0.02729   7.07   0.469   7.185   61.1  4.9671  2  242.0   17.8  392.83   \n2    0.03237   2.18   0.458   6.998   45.8  6.0622  3  222.0   18.7  394.63   \n3    0.06905   2.18   0.458   7.147   54.2  6.0622  3  222.0   18.7  396.90   \n4    0.02985   2.18   0.458   6.430   58.7  6.0622  3  222.0   18.7  394.12   \n..       ...    ...     ...     ...    ...     ... ..    ...    ...     ...   \n500  0.06263  11.93   0.573   6.593   69.1  2.4786  1  273.0   21.0  391.99   \n501  0.04527  11.93   0.573   6.120   76.7  2.2875  1  273.0   21.0  396.90   \n502  0.06076  11.93   0.573   6.976   91.0  2.1675  1  273.0   21.0  396.90   \n503  0.10959  11.93   0.573   6.794   89.3  2.3889  1  273.0   21.0  393.45   \n504  0.04741  11.93   0.573   6.030   80.8  2.5050  1  273.0   21.0  396.90   \n\n     4.98  24.00  \n0    9.14   21.6  \n1    4.03   34.7  \n2    2.94   33.4  \n3    5.33   36.2  \n4    5.21   28.7  \n..    ...    ...  \n500  9.67   22.4  \n501  9.08   20.6  \n502  5.64   23.9  \n503  6.48   22.0  \n504  7.88   11.9  \n\n[505 rows x 12 columns]",
      "text/html": "<div>\n<style scoped>\n    .dataframe tbody tr th:only-of-type {\n        vertical-align: middle;\n    }\n\n    .dataframe tbody tr th {\n        vertical-align: top;\n    }\n\n    .dataframe thead th {\n        text-align: right;\n    }\n</style>\n<table border=\"1\" class=\"dataframe\">\n  <thead>\n    <tr style=\"text-align: right;\">\n      <th></th>\n      <th>0.00632</th>\n      <th>2.310</th>\n      <th>0.5380</th>\n      <th>6.5750</th>\n      <th>65.20</th>\n      <th>4.0900</th>\n      <th>1</th>\n      <th>296.0</th>\n      <th>15.30</th>\n      <th>396.90</th>\n      <th>4.98</th>\n      <th>24.00</th>\n    </tr>\n  </thead>\n  <tbody>\n    <tr>\n      <th>0</th>\n      <td>0.02731</td>\n      <td>7.07</td>\n      <td>0.469</td>\n      <td>6.421</td>\n      <td>78.9</td>\n      <td>4.9671</td>\n      <td>2</td>\n      <td>242.0</td>\n      <td>17.8</td>\n      <td>396.90</td>\n      <td>9.14</td>\n      <td>21.6</td>\n    </tr>\n    <tr>\n      <th>1</th>\n      <td>0.02729</td>\n      <td>7.07</td>\n      <td>0.469</td>\n      <td>7.185</td>\n      <td>61.1</td>\n      <td>4.9671</td>\n      <td>2</td>\n      <td>242.0</td>\n      <td>17.8</td>\n      <td>392.83</td>\n      <td>4.03</td>\n      <td>34.7</td>\n    </tr>\n    <tr>\n      <th>2</th>\n      <td>0.03237</td>\n      <td>2.18</td>\n      <td>0.458</td>\n      <td>6.998</td>\n      <td>45.8</td>\n      <td>6.0622</td>\n      <td>3</td>\n      <td>222.0</td>\n      <td>18.7</td>\n      <td>394.63</td>\n      <td>2.94</td>\n      <td>33.4</td>\n    </tr>\n    <tr>\n      <th>3</th>\n      <td>0.06905</td>\n      <td>2.18</td>\n      <td>0.458</td>\n      <td>7.147</td>\n      <td>54.2</td>\n      <td>6.0622</td>\n      <td>3</td>\n      <td>222.0</td>\n      <td>18.7</td>\n      <td>396.90</td>\n      <td>5.33</td>\n      <td>36.2</td>\n    </tr>\n    <tr>\n      <th>4</th>\n      <td>0.02985</td>\n      <td>2.18</td>\n      <td>0.458</td>\n      <td>6.430</td>\n      <td>58.7</td>\n      <td>6.0622</td>\n      <td>3</td>\n      <td>222.0</td>\n      <td>18.7</td>\n      <td>394.12</td>\n      <td>5.21</td>\n      <td>28.7</td>\n    </tr>\n    <tr>\n      <th>...</th>\n      <td>...</td>\n      <td>...</td>\n      <td>...</td>\n      <td>...</td>\n      <td>...</td>\n      <td>...</td>\n      <td>...</td>\n      <td>...</td>\n      <td>...</td>\n      <td>...</td>\n      <td>...</td>\n      <td>...</td>\n    </tr>\n    <tr>\n      <th>500</th>\n      <td>0.06263</td>\n      <td>11.93</td>\n      <td>0.573</td>\n      <td>6.593</td>\n      <td>69.1</td>\n      <td>2.4786</td>\n      <td>1</td>\n      <td>273.0</td>\n      <td>21.0</td>\n      <td>391.99</td>\n      <td>9.67</td>\n      <td>22.4</td>\n    </tr>\n    <tr>\n      <th>501</th>\n      <td>0.04527</td>\n      <td>11.93</td>\n      <td>0.573</td>\n      <td>6.120</td>\n      <td>76.7</td>\n      <td>2.2875</td>\n      <td>1</td>\n      <td>273.0</td>\n      <td>21.0</td>\n      <td>396.90</td>\n      <td>9.08</td>\n      <td>20.6</td>\n    </tr>\n    <tr>\n      <th>502</th>\n      <td>0.06076</td>\n      <td>11.93</td>\n      <td>0.573</td>\n      <td>6.976</td>\n      <td>91.0</td>\n      <td>2.1675</td>\n      <td>1</td>\n      <td>273.0</td>\n      <td>21.0</td>\n      <td>396.90</td>\n      <td>5.64</td>\n      <td>23.9</td>\n    </tr>\n    <tr>\n      <th>503</th>\n      <td>0.10959</td>\n      <td>11.93</td>\n      <td>0.573</td>\n      <td>6.794</td>\n      <td>89.3</td>\n      <td>2.3889</td>\n      <td>1</td>\n      <td>273.0</td>\n      <td>21.0</td>\n      <td>393.45</td>\n      <td>6.48</td>\n      <td>22.0</td>\n    </tr>\n    <tr>\n      <th>504</th>\n      <td>0.04741</td>\n      <td>11.93</td>\n      <td>0.573</td>\n      <td>6.030</td>\n      <td>80.8</td>\n      <td>2.5050</td>\n      <td>1</td>\n      <td>273.0</td>\n      <td>21.0</td>\n      <td>396.90</td>\n      <td>7.88</td>\n      <td>11.9</td>\n    </tr>\n  </tbody>\n</table>\n<p>505 rows × 12 columns</p>\n</div>"
     },
     "metadata": {},
     "execution_count": 11
    }
   ],
   "source": []
  },
  {
   "cell_type": "code",
   "execution_count": 34,
   "metadata": {},
   "outputs": [
    {
     "output_type": "execute_result",
     "data": {
      "text/plain": "14"
     },
     "metadata": {},
     "execution_count": 34
    }
   ],
   "source": [
    "cols=['crime_rate','zonedratio','indusratio','alongriver','NOconc','avgrooms','oldhomeration','distance_centre','access_high','TAX','pupil-teacher-ratio','B','lowerstatus','median-value']\n",
    "len(cols)"
   ]
  },
  {
   "cell_type": "code",
   "execution_count": 35,
   "metadata": {},
   "outputs": [],
   "source": [
    "boston_data.columns=cols"
   ]
  },
  {
   "cell_type": "code",
   "execution_count": 36,
   "metadata": {},
   "outputs": [
    {
     "output_type": "execute_result",
     "data": {
      "text/plain": "     crime_rate  zonedratio  indusratio  alongriver  NOconc  avgrooms  \\\n0       0.02731         0.0        7.07           0   0.469     6.421   \n1       0.02729         0.0        7.07           0   0.469     7.185   \n2       0.03237         0.0        2.18           0   0.458     6.998   \n3       0.06905         0.0        2.18           0   0.458     7.147   \n4       0.02985         0.0        2.18           0   0.458     6.430   \n..          ...         ...         ...         ...     ...       ...   \n500     0.06263         0.0       11.93           0   0.573     6.593   \n501     0.04527         0.0       11.93           0   0.573     6.120   \n502     0.06076         0.0       11.93           0   0.573     6.976   \n503     0.10959         0.0       11.93           0   0.573     6.794   \n504     0.04741         0.0       11.93           0   0.573     6.030   \n\n     oldhomeration  distance_centre  access_high    TAX  pupil-teacher-ratio  \\\n0             78.9           4.9671            2  242.0                 17.8   \n1             61.1           4.9671            2  242.0                 17.8   \n2             45.8           6.0622            3  222.0                 18.7   \n3             54.2           6.0622            3  222.0                 18.7   \n4             58.7           6.0622            3  222.0                 18.7   \n..             ...              ...          ...    ...                  ...   \n500           69.1           2.4786            1  273.0                 21.0   \n501           76.7           2.2875            1  273.0                 21.0   \n502           91.0           2.1675            1  273.0                 21.0   \n503           89.3           2.3889            1  273.0                 21.0   \n504           80.8           2.5050            1  273.0                 21.0   \n\n     median-value  \n0            21.6  \n1            34.7  \n2            33.4  \n3            36.2  \n4            28.7  \n..            ...  \n500          22.4  \n501          20.6  \n502          23.9  \n503          22.0  \n504          11.9  \n\n[505 rows x 12 columns]",
      "text/html": "<div>\n<style scoped>\n    .dataframe tbody tr th:only-of-type {\n        vertical-align: middle;\n    }\n\n    .dataframe tbody tr th {\n        vertical-align: top;\n    }\n\n    .dataframe thead th {\n        text-align: right;\n    }\n</style>\n<table border=\"1\" class=\"dataframe\">\n  <thead>\n    <tr style=\"text-align: right;\">\n      <th></th>\n      <th>crime_rate</th>\n      <th>zonedratio</th>\n      <th>indusratio</th>\n      <th>alongriver</th>\n      <th>NOconc</th>\n      <th>avgrooms</th>\n      <th>oldhomeration</th>\n      <th>distance_centre</th>\n      <th>access_high</th>\n      <th>TAX</th>\n      <th>pupil-teacher-ratio</th>\n      <th>median-value</th>\n    </tr>\n  </thead>\n  <tbody>\n    <tr>\n      <th>0</th>\n      <td>0.02731</td>\n      <td>0.0</td>\n      <td>7.07</td>\n      <td>0</td>\n      <td>0.469</td>\n      <td>6.421</td>\n      <td>78.9</td>\n      <td>4.9671</td>\n      <td>2</td>\n      <td>242.0</td>\n      <td>17.8</td>\n      <td>21.6</td>\n    </tr>\n    <tr>\n      <th>1</th>\n      <td>0.02729</td>\n      <td>0.0</td>\n      <td>7.07</td>\n      <td>0</td>\n      <td>0.469</td>\n      <td>7.185</td>\n      <td>61.1</td>\n      <td>4.9671</td>\n      <td>2</td>\n      <td>242.0</td>\n      <td>17.8</td>\n      <td>34.7</td>\n    </tr>\n    <tr>\n      <th>2</th>\n      <td>0.03237</td>\n      <td>0.0</td>\n      <td>2.18</td>\n      <td>0</td>\n      <td>0.458</td>\n      <td>6.998</td>\n      <td>45.8</td>\n      <td>6.0622</td>\n      <td>3</td>\n      <td>222.0</td>\n      <td>18.7</td>\n      <td>33.4</td>\n    </tr>\n    <tr>\n      <th>3</th>\n      <td>0.06905</td>\n      <td>0.0</td>\n      <td>2.18</td>\n      <td>0</td>\n      <td>0.458</td>\n      <td>7.147</td>\n      <td>54.2</td>\n      <td>6.0622</td>\n      <td>3</td>\n      <td>222.0</td>\n      <td>18.7</td>\n      <td>36.2</td>\n    </tr>\n    <tr>\n      <th>4</th>\n      <td>0.02985</td>\n      <td>0.0</td>\n      <td>2.18</td>\n      <td>0</td>\n      <td>0.458</td>\n      <td>6.430</td>\n      <td>58.7</td>\n      <td>6.0622</td>\n      <td>3</td>\n      <td>222.0</td>\n      <td>18.7</td>\n      <td>28.7</td>\n    </tr>\n    <tr>\n      <th>...</th>\n      <td>...</td>\n      <td>...</td>\n      <td>...</td>\n      <td>...</td>\n      <td>...</td>\n      <td>...</td>\n      <td>...</td>\n      <td>...</td>\n      <td>...</td>\n      <td>...</td>\n      <td>...</td>\n      <td>...</td>\n    </tr>\n    <tr>\n      <th>500</th>\n      <td>0.06263</td>\n      <td>0.0</td>\n      <td>11.93</td>\n      <td>0</td>\n      <td>0.573</td>\n      <td>6.593</td>\n      <td>69.1</td>\n      <td>2.4786</td>\n      <td>1</td>\n      <td>273.0</td>\n      <td>21.0</td>\n      <td>22.4</td>\n    </tr>\n    <tr>\n      <th>501</th>\n      <td>0.04527</td>\n      <td>0.0</td>\n      <td>11.93</td>\n      <td>0</td>\n      <td>0.573</td>\n      <td>6.120</td>\n      <td>76.7</td>\n      <td>2.2875</td>\n      <td>1</td>\n      <td>273.0</td>\n      <td>21.0</td>\n      <td>20.6</td>\n    </tr>\n    <tr>\n      <th>502</th>\n      <td>0.06076</td>\n      <td>0.0</td>\n      <td>11.93</td>\n      <td>0</td>\n      <td>0.573</td>\n      <td>6.976</td>\n      <td>91.0</td>\n      <td>2.1675</td>\n      <td>1</td>\n      <td>273.0</td>\n      <td>21.0</td>\n      <td>23.9</td>\n    </tr>\n    <tr>\n      <th>503</th>\n      <td>0.10959</td>\n      <td>0.0</td>\n      <td>11.93</td>\n      <td>0</td>\n      <td>0.573</td>\n      <td>6.794</td>\n      <td>89.3</td>\n      <td>2.3889</td>\n      <td>1</td>\n      <td>273.0</td>\n      <td>21.0</td>\n      <td>22.0</td>\n    </tr>\n    <tr>\n      <th>504</th>\n      <td>0.04741</td>\n      <td>0.0</td>\n      <td>11.93</td>\n      <td>0</td>\n      <td>0.573</td>\n      <td>6.030</td>\n      <td>80.8</td>\n      <td>2.5050</td>\n      <td>1</td>\n      <td>273.0</td>\n      <td>21.0</td>\n      <td>11.9</td>\n    </tr>\n  </tbody>\n</table>\n<p>505 rows × 12 columns</p>\n</div>"
     },
     "metadata": {},
     "execution_count": 36
    }
   ],
   "source": [
    "boston_data=boston_data.drop(['B','lowerstatus'],axis=1)\n",
    "boston_data"
   ]
  },
  {
   "cell_type": "code",
   "execution_count": 37,
   "metadata": {},
   "outputs": [
    {
     "output_type": "execute_result",
     "data": {
      "text/plain": "     crime_rate  zonedratio  indusratio  alongriver  NOconc  avgrooms  \\\n0       0.02731         0.0        7.07           0   0.469     6.421   \n1       0.02729         0.0        7.07           0   0.469     7.185   \n2       0.03237         0.0        2.18           0   0.458     6.998   \n3       0.06905         0.0        2.18           0   0.458     7.147   \n4       0.02985         0.0        2.18           0   0.458     6.430   \n..          ...         ...         ...         ...     ...       ...   \n500     0.06263         0.0       11.93           0   0.573     6.593   \n501     0.04527         0.0       11.93           0   0.573     6.120   \n502     0.06076         0.0       11.93           0   0.573     6.976   \n503     0.10959         0.0       11.93           0   0.573     6.794   \n504     0.04741         0.0       11.93           0   0.573     6.030   \n\n     oldhomeration  distance_centre  access_high    TAX  pupil-teacher-ratio  \\\n0             78.9           4.9671            2  242.0                 17.8   \n1             61.1           4.9671            2  242.0                 17.8   \n2             45.8           6.0622            3  222.0                 18.7   \n3             54.2           6.0622            3  222.0                 18.7   \n4             58.7           6.0622            3  222.0                 18.7   \n..             ...              ...          ...    ...                  ...   \n500           69.1           2.4786            1  273.0                 21.0   \n501           76.7           2.2875            1  273.0                 21.0   \n502           91.0           2.1675            1  273.0                 21.0   \n503           89.3           2.3889            1  273.0                 21.0   \n504           80.8           2.5050            1  273.0                 21.0   \n\n     median-value  \n0            21.6  \n1            34.7  \n2            33.4  \n3            36.2  \n4            28.7  \n..            ...  \n500          22.4  \n501          20.6  \n502          23.9  \n503          22.0  \n504          11.9  \n\n[505 rows x 12 columns]",
      "text/html": "<div>\n<style scoped>\n    .dataframe tbody tr th:only-of-type {\n        vertical-align: middle;\n    }\n\n    .dataframe tbody tr th {\n        vertical-align: top;\n    }\n\n    .dataframe thead th {\n        text-align: right;\n    }\n</style>\n<table border=\"1\" class=\"dataframe\">\n  <thead>\n    <tr style=\"text-align: right;\">\n      <th></th>\n      <th>crime_rate</th>\n      <th>zonedratio</th>\n      <th>indusratio</th>\n      <th>alongriver</th>\n      <th>NOconc</th>\n      <th>avgrooms</th>\n      <th>oldhomeration</th>\n      <th>distance_centre</th>\n      <th>access_high</th>\n      <th>TAX</th>\n      <th>pupil-teacher-ratio</th>\n      <th>median-value</th>\n    </tr>\n  </thead>\n  <tbody>\n    <tr>\n      <th>0</th>\n      <td>0.02731</td>\n      <td>0.0</td>\n      <td>7.07</td>\n      <td>0</td>\n      <td>0.469</td>\n      <td>6.421</td>\n      <td>78.9</td>\n      <td>4.9671</td>\n      <td>2</td>\n      <td>242.0</td>\n      <td>17.8</td>\n      <td>21.6</td>\n    </tr>\n    <tr>\n      <th>1</th>\n      <td>0.02729</td>\n      <td>0.0</td>\n      <td>7.07</td>\n      <td>0</td>\n      <td>0.469</td>\n      <td>7.185</td>\n      <td>61.1</td>\n      <td>4.9671</td>\n      <td>2</td>\n      <td>242.0</td>\n      <td>17.8</td>\n      <td>34.7</td>\n    </tr>\n    <tr>\n      <th>2</th>\n      <td>0.03237</td>\n      <td>0.0</td>\n      <td>2.18</td>\n      <td>0</td>\n      <td>0.458</td>\n      <td>6.998</td>\n      <td>45.8</td>\n      <td>6.0622</td>\n      <td>3</td>\n      <td>222.0</td>\n      <td>18.7</td>\n      <td>33.4</td>\n    </tr>\n    <tr>\n      <th>3</th>\n      <td>0.06905</td>\n      <td>0.0</td>\n      <td>2.18</td>\n      <td>0</td>\n      <td>0.458</td>\n      <td>7.147</td>\n      <td>54.2</td>\n      <td>6.0622</td>\n      <td>3</td>\n      <td>222.0</td>\n      <td>18.7</td>\n      <td>36.2</td>\n    </tr>\n    <tr>\n      <th>4</th>\n      <td>0.02985</td>\n      <td>0.0</td>\n      <td>2.18</td>\n      <td>0</td>\n      <td>0.458</td>\n      <td>6.430</td>\n      <td>58.7</td>\n      <td>6.0622</td>\n      <td>3</td>\n      <td>222.0</td>\n      <td>18.7</td>\n      <td>28.7</td>\n    </tr>\n    <tr>\n      <th>...</th>\n      <td>...</td>\n      <td>...</td>\n      <td>...</td>\n      <td>...</td>\n      <td>...</td>\n      <td>...</td>\n      <td>...</td>\n      <td>...</td>\n      <td>...</td>\n      <td>...</td>\n      <td>...</td>\n      <td>...</td>\n    </tr>\n    <tr>\n      <th>500</th>\n      <td>0.06263</td>\n      <td>0.0</td>\n      <td>11.93</td>\n      <td>0</td>\n      <td>0.573</td>\n      <td>6.593</td>\n      <td>69.1</td>\n      <td>2.4786</td>\n      <td>1</td>\n      <td>273.0</td>\n      <td>21.0</td>\n      <td>22.4</td>\n    </tr>\n    <tr>\n      <th>501</th>\n      <td>0.04527</td>\n      <td>0.0</td>\n      <td>11.93</td>\n      <td>0</td>\n      <td>0.573</td>\n      <td>6.120</td>\n      <td>76.7</td>\n      <td>2.2875</td>\n      <td>1</td>\n      <td>273.0</td>\n      <td>21.0</td>\n      <td>20.6</td>\n    </tr>\n    <tr>\n      <th>502</th>\n      <td>0.06076</td>\n      <td>0.0</td>\n      <td>11.93</td>\n      <td>0</td>\n      <td>0.573</td>\n      <td>6.976</td>\n      <td>91.0</td>\n      <td>2.1675</td>\n      <td>1</td>\n      <td>273.0</td>\n      <td>21.0</td>\n      <td>23.9</td>\n    </tr>\n    <tr>\n      <th>503</th>\n      <td>0.10959</td>\n      <td>0.0</td>\n      <td>11.93</td>\n      <td>0</td>\n      <td>0.573</td>\n      <td>6.794</td>\n      <td>89.3</td>\n      <td>2.3889</td>\n      <td>1</td>\n      <td>273.0</td>\n      <td>21.0</td>\n      <td>22.0</td>\n    </tr>\n    <tr>\n      <th>504</th>\n      <td>0.04741</td>\n      <td>0.0</td>\n      <td>11.93</td>\n      <td>0</td>\n      <td>0.573</td>\n      <td>6.030</td>\n      <td>80.8</td>\n      <td>2.5050</td>\n      <td>1</td>\n      <td>273.0</td>\n      <td>21.0</td>\n      <td>11.9</td>\n    </tr>\n  </tbody>\n</table>\n<p>505 rows × 12 columns</p>\n</div>"
     },
     "metadata": {},
     "execution_count": 37
    }
   ],
   "source": [
    "boston_data.replace('NA',np.nan)"
   ]
  },
  {
   "cell_type": "code",
   "execution_count": 39,
   "metadata": {},
   "outputs": [
    {
     "output_type": "execute_result",
     "data": {
      "text/plain": "crime_rate             0\nzonedratio             0\nindusratio             0\nalongriver             0\nNOconc                 0\navgrooms               0\noldhomeration          0\ndistance_centre        0\naccess_high            0\nTAX                    0\npupil-teacher-ratio    0\nmedian-value           0\ndtype: int64"
     },
     "metadata": {},
     "execution_count": 39
    }
   ],
   "source": [
    "boston_data.isna().sum()"
   ]
  },
  {
   "cell_type": "code",
   "execution_count": 42,
   "metadata": {},
   "outputs": [],
   "source": [
    "target=boston_data['median-value']\n",
    "features=boston_data.drop('median-value',axis=1)\n",
    "feature_names=list(boston_data.columns)"
   ]
  },
  {
   "cell_type": "markdown",
   "metadata": {},
   "source": [
    "## Feature Selection using SelectKBest() in the sklearn.feature_selection Library "
   ]
  },
  {
   "cell_type": "code",
   "execution_count": 43,
   "metadata": {},
   "outputs": [
    {
     "output_type": "display_data",
     "data": {
      "text/plain": "<Figure size 576x396 with 1 Axes>",
      "image/svg+xml": "<?xml version=\"1.0\" encoding=\"utf-8\" standalone=\"no\"?>\n<!DOCTYPE svg PUBLIC \"-//W3C//DTD SVG 1.1//EN\"\n  \"http://www.w3.org/Graphics/SVG/1.1/DTD/svg11.dtd\">\n<!-- Created with matplotlib (https://matplotlib.org/) -->\n<svg height=\"358.652187pt\" version=\"1.1\" viewBox=\"0 0 548.389062 358.652187\" width=\"548.389062pt\" xmlns=\"http://www.w3.org/2000/svg\" xmlns:xlink=\"http://www.w3.org/1999/xlink\">\n <defs>\n  <style type=\"text/css\">\n*{stroke-linecap:butt;stroke-linejoin:round;}\n  </style>\n </defs>\n <g id=\"figure_1\">\n  <g id=\"patch_1\">\n   <path d=\"M 0 358.652187 \nL 548.389062 358.652187 \nL 548.389062 0 \nL 0 0 \nz\n\" style=\"fill:#ffffff;\"/>\n  </g>\n  <g id=\"axes_1\">\n   <g id=\"patch_2\">\n    <path d=\"M 94.789063 320.87625 \nL 541.189062 320.87625 \nL 541.189062 21.89625 \nL 94.789063 21.89625 \nz\n\" style=\"fill:#ffffff;\"/>\n   </g>\n   <g id=\"matplotlib.axis_1\">\n    <g id=\"xtick_1\">\n     <g id=\"line2d_1\">\n      <path clip-path=\"url(#pd92e759b81)\" d=\"M 151.627553 320.87625 \nL 151.627553 21.89625 \n\" style=\"fill:none;stroke:#cccccc;stroke-linecap:round;\"/>\n     </g>\n     <g id=\"line2d_2\"/>\n     <g id=\"text_1\">\n      <!-- −0.4 -->\n      <defs>\n       <path d=\"M 4.9375 29.6875 \nL 4.9375 36.8125 \nL 53.515625 36.8125 \nL 53.515625 29.6875 \nz\n\" id=\"LiberationSans-8722\"/>\n       <path d=\"M 51.703125 34.421875 \nQ 51.703125 17.1875 45.625 8.09375 \nQ 39.546875 -0.984375 27.6875 -0.984375 \nQ 15.828125 -0.984375 9.859375 8.046875 \nQ 3.90625 17.09375 3.90625 34.421875 \nQ 3.90625 52.15625 9.6875 60.984375 \nQ 15.484375 69.828125 27.984375 69.828125 \nQ 40.140625 69.828125 45.921875 60.890625 \nQ 51.703125 51.953125 51.703125 34.421875 \nz\nM 42.78125 34.421875 \nQ 42.78125 49.3125 39.328125 56 \nQ 35.890625 62.703125 27.984375 62.703125 \nQ 19.875 62.703125 16.328125 56.109375 \nQ 12.796875 49.515625 12.796875 34.421875 \nQ 12.796875 19.78125 16.375 12.984375 \nQ 19.96875 6.203125 27.78125 6.203125 \nQ 35.546875 6.203125 39.15625 13.125 \nQ 42.78125 20.0625 42.78125 34.421875 \nz\n\" id=\"LiberationSans-48\"/>\n       <path d=\"M 9.125 0 \nL 9.125 10.6875 \nL 18.65625 10.6875 \nL 18.65625 0 \nz\n\" id=\"LiberationSans-46\"/>\n       <path d=\"M 43.015625 15.578125 \nL 43.015625 0 \nL 34.71875 0 \nL 34.71875 15.578125 \nL 2.296875 15.578125 \nL 2.296875 22.40625 \nL 33.796875 68.796875 \nL 43.015625 68.796875 \nL 43.015625 22.515625 \nL 52.6875 22.515625 \nL 52.6875 15.578125 \nz\nM 34.71875 58.890625 \nQ 34.625 58.59375 33.34375 56.296875 \nQ 32.078125 54 31.453125 53.078125 \nL 13.8125 27.09375 \nL 11.1875 23.484375 \nL 10.40625 22.515625 \nL 34.71875 22.515625 \nz\n\" id=\"LiberationSans-52\"/>\n      </defs>\n      <g style=\"fill:#262626;\" transform=\"translate(141.75724 335.123125)scale(0.1 -0.1)\">\n       <use xlink:href=\"#LiberationSans-8722\"/>\n       <use x=\"58.398438\" xlink:href=\"#LiberationSans-48\"/>\n       <use x=\"114.013672\" xlink:href=\"#LiberationSans-46\"/>\n       <use x=\"141.796875\" xlink:href=\"#LiberationSans-52\"/>\n      </g>\n     </g>\n    </g>\n    <g id=\"xtick_2\">\n     <g id=\"line2d_3\">\n      <path clip-path=\"url(#pd92e759b81)\" d=\"M 219.051793 320.87625 \nL 219.051793 21.89625 \n\" style=\"fill:none;stroke:#cccccc;stroke-linecap:round;\"/>\n     </g>\n     <g id=\"line2d_4\"/>\n     <g id=\"text_2\">\n      <!-- −0.2 -->\n      <defs>\n       <path d=\"M 5.03125 0 \nL 5.03125 6.203125 \nQ 7.515625 11.921875 11.109375 16.28125 \nQ 14.703125 20.65625 18.65625 24.1875 \nQ 22.609375 27.734375 26.484375 30.765625 \nQ 30.375 33.796875 33.5 36.8125 \nQ 36.625 39.84375 38.546875 43.15625 \nQ 40.484375 46.484375 40.484375 50.6875 \nQ 40.484375 56.34375 37.15625 59.46875 \nQ 33.84375 62.59375 27.9375 62.59375 \nQ 22.3125 62.59375 18.671875 59.546875 \nQ 15.046875 56.5 14.40625 50.984375 \nL 5.421875 51.8125 \nQ 6.390625 60.0625 12.421875 64.9375 \nQ 18.453125 69.828125 27.9375 69.828125 \nQ 38.328125 69.828125 43.921875 64.921875 \nQ 49.515625 60.015625 49.515625 50.984375 \nQ 49.515625 46.96875 47.671875 43.015625 \nQ 45.84375 39.0625 42.234375 35.109375 \nQ 38.625 31.15625 28.421875 22.859375 \nQ 22.796875 18.265625 19.46875 14.578125 \nQ 16.15625 10.890625 14.703125 7.46875 \nL 50.59375 7.46875 \nL 50.59375 0 \nz\n\" id=\"LiberationSans-50\"/>\n      </defs>\n      <g style=\"fill:#262626;\" transform=\"translate(209.18148 335.123125)scale(0.1 -0.1)\">\n       <use xlink:href=\"#LiberationSans-8722\"/>\n       <use x=\"58.398438\" xlink:href=\"#LiberationSans-48\"/>\n       <use x=\"114.013672\" xlink:href=\"#LiberationSans-46\"/>\n       <use x=\"141.796875\" xlink:href=\"#LiberationSans-50\"/>\n      </g>\n     </g>\n    </g>\n    <g id=\"xtick_3\">\n     <g id=\"line2d_5\">\n      <path clip-path=\"url(#pd92e759b81)\" d=\"M 286.476033 320.87625 \nL 286.476033 21.89625 \n\" style=\"fill:none;stroke:#cccccc;stroke-linecap:round;\"/>\n     </g>\n     <g id=\"line2d_6\"/>\n     <g id=\"text_3\">\n      <!-- 0.0 -->\n      <g style=\"fill:#262626;\" transform=\"translate(279.526033 335.123125)scale(0.1 -0.1)\">\n       <use xlink:href=\"#LiberationSans-48\"/>\n       <use x=\"55.615234\" xlink:href=\"#LiberationSans-46\"/>\n       <use x=\"83.398438\" xlink:href=\"#LiberationSans-48\"/>\n      </g>\n     </g>\n    </g>\n    <g id=\"xtick_4\">\n     <g id=\"line2d_7\">\n      <path clip-path=\"url(#pd92e759b81)\" d=\"M 353.900272 320.87625 \nL 353.900272 21.89625 \n\" style=\"fill:none;stroke:#cccccc;stroke-linecap:round;\"/>\n     </g>\n     <g id=\"line2d_8\"/>\n     <g id=\"text_4\">\n      <!-- 0.2 -->\n      <g style=\"fill:#262626;\" transform=\"translate(346.950272 335.123125)scale(0.1 -0.1)\">\n       <use xlink:href=\"#LiberationSans-48\"/>\n       <use x=\"55.615234\" xlink:href=\"#LiberationSans-46\"/>\n       <use x=\"83.398438\" xlink:href=\"#LiberationSans-50\"/>\n      </g>\n     </g>\n    </g>\n    <g id=\"xtick_5\">\n     <g id=\"line2d_9\">\n      <path clip-path=\"url(#pd92e759b81)\" d=\"M 421.324512 320.87625 \nL 421.324512 21.89625 \n\" style=\"fill:none;stroke:#cccccc;stroke-linecap:round;\"/>\n     </g>\n     <g id=\"line2d_10\"/>\n     <g id=\"text_5\">\n      <!-- 0.4 -->\n      <g style=\"fill:#262626;\" transform=\"translate(414.374512 335.123125)scale(0.1 -0.1)\">\n       <use xlink:href=\"#LiberationSans-48\"/>\n       <use x=\"55.615234\" xlink:href=\"#LiberationSans-46\"/>\n       <use x=\"83.398438\" xlink:href=\"#LiberationSans-52\"/>\n      </g>\n     </g>\n    </g>\n    <g id=\"xtick_6\">\n     <g id=\"line2d_11\">\n      <path clip-path=\"url(#pd92e759b81)\" d=\"M 488.748752 320.87625 \nL 488.748752 21.89625 \n\" style=\"fill:none;stroke:#cccccc;stroke-linecap:round;\"/>\n     </g>\n     <g id=\"line2d_12\"/>\n     <g id=\"text_6\">\n      <!-- 0.6 -->\n      <defs>\n       <path d=\"M 51.21875 22.515625 \nQ 51.21875 11.625 45.3125 5.3125 \nQ 39.40625 -0.984375 29 -0.984375 \nQ 17.390625 -0.984375 11.234375 7.65625 \nQ 5.078125 16.3125 5.078125 32.8125 \nQ 5.078125 50.6875 11.46875 60.25 \nQ 17.875 69.828125 29.6875 69.828125 \nQ 45.265625 69.828125 49.3125 55.8125 \nL 40.921875 54.296875 \nQ 38.328125 62.703125 29.59375 62.703125 \nQ 22.078125 62.703125 17.9375 55.6875 \nQ 13.8125 48.6875 13.8125 35.40625 \nQ 16.21875 39.84375 20.5625 42.15625 \nQ 24.90625 44.484375 30.515625 44.484375 \nQ 40.046875 44.484375 45.625 38.515625 \nQ 51.21875 32.5625 51.21875 22.515625 \nz\nM 42.28125 22.125 \nQ 42.28125 29.59375 38.625 33.640625 \nQ 34.96875 37.703125 28.421875 37.703125 \nQ 22.265625 37.703125 18.484375 34.109375 \nQ 14.703125 30.515625 14.703125 24.21875 \nQ 14.703125 16.265625 18.625 11.1875 \nQ 22.5625 6.109375 28.71875 6.109375 \nQ 35.0625 6.109375 38.671875 10.375 \nQ 42.28125 14.65625 42.28125 22.125 \nz\n\" id=\"LiberationSans-54\"/>\n      </defs>\n      <g style=\"fill:#262626;\" transform=\"translate(481.798752 335.123125)scale(0.1 -0.1)\">\n       <use xlink:href=\"#LiberationSans-48\"/>\n       <use x=\"55.615234\" xlink:href=\"#LiberationSans-46\"/>\n       <use x=\"83.398438\" xlink:href=\"#LiberationSans-54\"/>\n      </g>\n     </g>\n    </g>\n    <g id=\"text_7\">\n     <!-- Pearson Correlation -->\n     <defs>\n      <path d=\"M 61.421875 48.09375 \nQ 61.421875 38.328125 55.046875 32.5625 \nQ 48.6875 26.8125 37.75 26.8125 \nL 17.53125 26.8125 \nL 17.53125 0 \nL 8.203125 0 \nL 8.203125 68.796875 \nL 37.15625 68.796875 \nQ 48.734375 68.796875 55.078125 63.375 \nQ 61.421875 57.953125 61.421875 48.09375 \nz\nM 52.046875 48 \nQ 52.046875 61.328125 36.03125 61.328125 \nL 17.53125 61.328125 \nL 17.53125 34.1875 \nL 36.421875 34.1875 \nQ 52.046875 34.1875 52.046875 48 \nz\n\" id=\"LiberationSans-80\"/>\n      <path d=\"M 13.484375 24.5625 \nQ 13.484375 15.484375 17.234375 10.546875 \nQ 21 5.609375 28.21875 5.609375 \nQ 33.9375 5.609375 37.375 7.90625 \nQ 40.828125 10.203125 42.046875 13.71875 \nL 49.75 11.53125 \nQ 45.015625 -0.984375 28.21875 -0.984375 \nQ 16.5 -0.984375 10.375 6 \nQ 4.25 12.984375 4.25 26.765625 \nQ 4.25 39.84375 10.375 46.828125 \nQ 16.5 53.8125 27.875 53.8125 \nQ 51.171875 53.8125 51.171875 25.734375 \nL 51.171875 24.5625 \nz\nM 42.09375 31.296875 \nQ 41.359375 39.65625 37.84375 43.484375 \nQ 34.328125 47.3125 27.734375 47.3125 \nQ 21.34375 47.3125 17.609375 43.03125 \nQ 13.875 38.765625 13.578125 31.296875 \nz\n\" id=\"LiberationSans-101\"/>\n      <path d=\"M 20.21875 -0.984375 \nQ 12.25 -0.984375 8.25 3.21875 \nQ 4.25 7.421875 4.25 14.75 \nQ 4.25 22.953125 9.640625 27.34375 \nQ 15.046875 31.734375 27.046875 32.03125 \nL 38.921875 32.234375 \nL 38.921875 35.109375 \nQ 38.921875 41.546875 36.1875 44.328125 \nQ 33.453125 47.125 27.59375 47.125 \nQ 21.6875 47.125 19 45.109375 \nQ 16.3125 43.109375 15.765625 38.71875 \nL 6.59375 39.546875 \nQ 8.84375 53.8125 27.78125 53.8125 \nQ 37.75 53.8125 42.765625 49.234375 \nQ 47.796875 44.671875 47.796875 36.03125 \nL 47.796875 13.28125 \nQ 47.796875 9.375 48.828125 7.390625 \nQ 49.859375 5.421875 52.734375 5.421875 \nQ 54 5.421875 55.609375 5.765625 \nL 55.609375 0.296875 \nQ 52.296875 -0.484375 48.828125 -0.484375 \nQ 43.953125 -0.484375 41.71875 2.078125 \nQ 39.5 4.640625 39.203125 10.109375 \nL 38.921875 10.109375 \nQ 35.546875 4.046875 31.078125 1.53125 \nQ 26.609375 -0.984375 20.21875 -0.984375 \nz\nM 22.21875 5.609375 \nQ 27.046875 5.609375 30.8125 7.8125 \nQ 34.578125 10.015625 36.75 13.84375 \nQ 38.921875 17.671875 38.921875 21.734375 \nL 38.921875 26.078125 \nL 29.296875 25.875 \nQ 23.09375 25.78125 19.890625 24.609375 \nQ 16.703125 23.4375 14.984375 21 \nQ 13.28125 18.5625 13.28125 14.59375 \nQ 13.28125 10.296875 15.59375 7.953125 \nQ 17.921875 5.609375 22.21875 5.609375 \nz\n\" id=\"LiberationSans-97\"/>\n      <path d=\"M 6.9375 0 \nL 6.9375 40.53125 \nQ 6.9375 46.09375 6.640625 52.828125 \nL 14.9375 52.828125 \nQ 15.328125 43.84375 15.328125 42.046875 \nL 15.53125 42.046875 \nQ 17.625 48.828125 20.359375 51.3125 \nQ 23.09375 53.8125 28.078125 53.8125 \nQ 29.828125 53.8125 31.640625 53.328125 \nL 31.640625 45.265625 \nQ 29.890625 45.75 26.953125 45.75 \nQ 21.484375 45.75 18.59375 41.03125 \nQ 15.71875 36.328125 15.71875 27.546875 \nL 15.71875 0 \nz\n\" id=\"LiberationSans-114\"/>\n      <path d=\"M 46.390625 14.59375 \nQ 46.390625 7.125 40.75 3.0625 \nQ 35.109375 -0.984375 24.953125 -0.984375 \nQ 15.09375 -0.984375 9.734375 2.265625 \nQ 4.390625 5.515625 2.78125 12.40625 \nL 10.546875 13.921875 \nQ 11.671875 9.671875 15.1875 7.6875 \nQ 18.703125 5.71875 24.953125 5.71875 \nQ 31.640625 5.71875 34.734375 7.765625 \nQ 37.84375 9.8125 37.84375 13.921875 \nQ 37.84375 17.046875 35.6875 19 \nQ 33.546875 20.953125 28.765625 22.21875 \nL 22.46875 23.875 \nQ 14.890625 25.828125 11.6875 27.703125 \nQ 8.5 29.59375 6.6875 32.28125 \nQ 4.890625 34.96875 4.890625 38.875 \nQ 4.890625 46.09375 10.03125 49.875 \nQ 15.1875 53.65625 25.046875 53.65625 \nQ 33.796875 53.65625 38.9375 50.578125 \nQ 44.09375 47.515625 45.453125 40.71875 \nL 37.546875 39.75 \nQ 36.8125 43.265625 33.609375 45.140625 \nQ 30.421875 47.015625 25.046875 47.015625 \nQ 19.09375 47.015625 16.25 45.203125 \nQ 13.421875 43.40625 13.421875 39.75 \nQ 13.421875 37.5 14.59375 36.03125 \nQ 15.765625 34.578125 18.0625 33.546875 \nQ 20.359375 32.515625 27.734375 30.71875 \nQ 34.71875 28.953125 37.796875 27.46875 \nQ 40.875 25.984375 42.65625 24.171875 \nQ 44.4375 22.359375 45.40625 19.984375 \nQ 46.390625 17.625 46.390625 14.59375 \nz\n\" id=\"LiberationSans-115\"/>\n      <path d=\"M 51.421875 26.46875 \nQ 51.421875 12.59375 45.3125 5.796875 \nQ 39.203125 -0.984375 27.59375 -0.984375 \nQ 16.015625 -0.984375 10.109375 6.078125 \nQ 4.203125 13.140625 4.203125 26.46875 \nQ 4.203125 53.8125 27.875 53.8125 \nQ 39.984375 53.8125 45.703125 47.140625 \nQ 51.421875 40.484375 51.421875 26.46875 \nz\nM 42.1875 26.46875 \nQ 42.1875 37.40625 38.9375 42.359375 \nQ 35.6875 47.3125 28.03125 47.3125 \nQ 20.3125 47.3125 16.859375 42.25 \nQ 13.421875 37.203125 13.421875 26.46875 \nQ 13.421875 16.015625 16.8125 10.765625 \nQ 20.21875 5.515625 27.484375 5.515625 \nQ 35.40625 5.515625 38.796875 10.59375 \nQ 42.1875 15.671875 42.1875 26.46875 \nz\n\" id=\"LiberationSans-111\"/>\n      <path d=\"M 40.28125 0 \nL 40.28125 33.5 \nQ 40.28125 38.71875 39.25 41.59375 \nQ 38.234375 44.484375 35.984375 45.75 \nQ 33.734375 47.015625 29.390625 47.015625 \nQ 23.046875 47.015625 19.375 42.671875 \nQ 15.71875 38.328125 15.71875 30.609375 \nL 15.71875 0 \nL 6.9375 0 \nL 6.9375 41.546875 \nQ 6.9375 50.78125 6.640625 52.828125 \nL 14.9375 52.828125 \nQ 14.984375 52.59375 15.03125 51.515625 \nQ 15.09375 50.4375 15.15625 49.046875 \nQ 15.234375 47.65625 15.328125 43.796875 \nL 15.484375 43.796875 \nQ 18.5 49.265625 22.484375 51.53125 \nQ 26.46875 53.8125 32.375 53.8125 \nQ 41.0625 53.8125 45.09375 49.484375 \nQ 49.125 45.171875 49.125 35.203125 \nL 49.125 0 \nz\n\" id=\"LiberationSans-110\"/>\n      <path id=\"LiberationSans-32\"/>\n      <path d=\"M 38.671875 62.203125 \nQ 27.25 62.203125 20.890625 54.859375 \nQ 14.546875 47.515625 14.546875 34.71875 \nQ 14.546875 22.078125 21.15625 14.375 \nQ 27.78125 6.6875 39.0625 6.6875 \nQ 53.515625 6.6875 60.796875 21 \nL 68.40625 17.1875 \nQ 64.15625 8.296875 56.46875 3.65625 \nQ 48.78125 -0.984375 38.625 -0.984375 \nQ 28.21875 -0.984375 20.625 3.34375 \nQ 13.03125 7.671875 9.046875 15.703125 \nQ 5.078125 23.734375 5.078125 34.71875 \nQ 5.078125 51.171875 13.96875 60.5 \nQ 22.859375 69.828125 38.578125 69.828125 \nQ 49.5625 69.828125 56.9375 65.53125 \nQ 64.3125 61.234375 67.78125 52.78125 \nL 58.9375 49.859375 \nQ 56.546875 55.859375 51.25 59.03125 \nQ 45.953125 62.203125 38.671875 62.203125 \nz\n\" id=\"LiberationSans-67\"/>\n      <path d=\"M 6.734375 0 \nL 6.734375 72.46875 \nL 15.53125 72.46875 \nL 15.53125 0 \nz\n\" id=\"LiberationSans-108\"/>\n      <path d=\"M 27.046875 0.390625 \nQ 22.703125 -0.78125 18.171875 -0.78125 \nQ 7.625 -0.78125 7.625 11.1875 \nL 7.625 46.4375 \nL 1.515625 46.4375 \nL 1.515625 52.828125 \nL 7.953125 52.828125 \nL 10.546875 64.65625 \nL 16.40625 64.65625 \nL 16.40625 52.828125 \nL 26.171875 52.828125 \nL 26.171875 46.4375 \nL 16.40625 46.4375 \nL 16.40625 13.09375 \nQ 16.40625 9.28125 17.640625 7.734375 \nQ 18.890625 6.203125 21.96875 6.203125 \nQ 23.734375 6.203125 27.046875 6.890625 \nz\n\" id=\"LiberationSans-116\"/>\n      <path d=\"M 6.6875 64.0625 \nL 6.6875 72.46875 \nL 15.484375 72.46875 \nL 15.484375 64.0625 \nz\nM 6.6875 0 \nL 6.6875 52.828125 \nL 15.484375 52.828125 \nL 15.484375 0 \nz\n\" id=\"LiberationSans-105\"/>\n     </defs>\n     <g style=\"fill:#262626;\" transform=\"translate(269.077734 349.169687)scale(0.11 -0.11)\">\n      <use xlink:href=\"#LiberationSans-80\"/>\n      <use x=\"66.699219\" xlink:href=\"#LiberationSans-101\"/>\n      <use x=\"122.314453\" xlink:href=\"#LiberationSans-97\"/>\n      <use x=\"177.929688\" xlink:href=\"#LiberationSans-114\"/>\n      <use x=\"211.230469\" xlink:href=\"#LiberationSans-115\"/>\n      <use x=\"261.230469\" xlink:href=\"#LiberationSans-111\"/>\n      <use x=\"316.845703\" xlink:href=\"#LiberationSans-110\"/>\n      <use x=\"372.460938\" xlink:href=\"#LiberationSans-32\"/>\n      <use x=\"400.244141\" xlink:href=\"#LiberationSans-67\"/>\n      <use x=\"472.460938\" xlink:href=\"#LiberationSans-111\"/>\n      <use x=\"528.076172\" xlink:href=\"#LiberationSans-114\"/>\n      <use x=\"561.376953\" xlink:href=\"#LiberationSans-114\"/>\n      <use x=\"594.677734\" xlink:href=\"#LiberationSans-101\"/>\n      <use x=\"650.292969\" xlink:href=\"#LiberationSans-108\"/>\n      <use x=\"672.509766\" xlink:href=\"#LiberationSans-97\"/>\n      <use x=\"728.125\" xlink:href=\"#LiberationSans-116\"/>\n      <use x=\"755.908203\" xlink:href=\"#LiberationSans-105\"/>\n      <use x=\"778.125\" xlink:href=\"#LiberationSans-111\"/>\n      <use x=\"833.740234\" xlink:href=\"#LiberationSans-110\"/>\n     </g>\n    </g>\n   </g>\n   <g id=\"matplotlib.axis_2\">\n    <g id=\"ytick_1\">\n     <g id=\"line2d_13\"/>\n     <g id=\"text_8\">\n      <!-- crime_rate -->\n      <defs>\n       <path d=\"M 13.421875 26.65625 \nQ 13.421875 16.109375 16.734375 11.03125 \nQ 20.0625 5.953125 26.765625 5.953125 \nQ 31.453125 5.953125 34.59375 8.484375 \nQ 37.75 11.03125 38.484375 16.3125 \nL 47.359375 15.71875 \nQ 46.34375 8.109375 40.875 3.5625 \nQ 35.40625 -0.984375 27 -0.984375 \nQ 15.921875 -0.984375 10.078125 6.015625 \nQ 4.25 13.03125 4.25 26.46875 \nQ 4.25 39.796875 10.109375 46.796875 \nQ 15.96875 53.8125 26.90625 53.8125 \nQ 35.015625 53.8125 40.359375 49.609375 \nQ 45.703125 45.40625 47.078125 38.03125 \nL 38.03125 37.359375 \nQ 37.359375 41.75 34.5625 44.328125 \nQ 31.78125 46.921875 26.65625 46.921875 \nQ 19.671875 46.921875 16.546875 42.28125 \nQ 13.421875 37.640625 13.421875 26.65625 \nz\n\" id=\"LiberationSans-99\"/>\n       <path d=\"M 37.5 0 \nL 37.5 33.5 \nQ 37.5 41.15625 35.390625 44.078125 \nQ 33.296875 47.015625 27.828125 47.015625 \nQ 22.21875 47.015625 18.9375 42.71875 \nQ 15.671875 38.421875 15.671875 30.609375 \nL 15.671875 0 \nL 6.9375 0 \nL 6.9375 41.546875 \nQ 6.9375 50.78125 6.640625 52.828125 \nL 14.9375 52.828125 \nQ 14.984375 52.59375 15.03125 51.515625 \nQ 15.09375 50.4375 15.15625 49.046875 \nQ 15.234375 47.65625 15.328125 43.796875 \nL 15.484375 43.796875 \nQ 18.3125 49.421875 21.96875 51.609375 \nQ 25.640625 53.8125 30.90625 53.8125 \nQ 36.921875 53.8125 40.40625 51.421875 \nQ 43.890625 49.03125 45.265625 43.796875 \nL 45.40625 43.796875 \nQ 48.140625 49.125 52.015625 51.46875 \nQ 55.90625 53.8125 61.421875 53.8125 \nQ 69.4375 53.8125 73.0625 49.46875 \nQ 76.703125 45.125 76.703125 35.203125 \nL 76.703125 0 \nL 68.015625 0 \nL 68.015625 33.5 \nQ 68.015625 41.15625 65.90625 44.078125 \nQ 63.8125 47.015625 58.34375 47.015625 \nQ 52.59375 47.015625 49.390625 42.75 \nQ 46.1875 38.484375 46.1875 30.609375 \nL 46.1875 0 \nz\n\" id=\"LiberationSans-109\"/>\n       <path d=\"M -1.515625 -19.875 \nL -1.515625 -13.53125 \nL 56.734375 -13.53125 \nL 56.734375 -19.875 \nz\n\" id=\"LiberationSans-95\"/>\n      </defs>\n      <g style=\"fill:#262626;\" transform=\"translate(40.55625 300.843021)scale(0.1 -0.1)\">\n       <use xlink:href=\"#LiberationSans-99\"/>\n       <use x=\"50\" xlink:href=\"#LiberationSans-114\"/>\n       <use x=\"83.300781\" xlink:href=\"#LiberationSans-105\"/>\n       <use x=\"105.517578\" xlink:href=\"#LiberationSans-109\"/>\n       <use x=\"188.818359\" xlink:href=\"#LiberationSans-101\"/>\n       <use x=\"244.433594\" xlink:href=\"#LiberationSans-95\"/>\n       <use x=\"300.048828\" xlink:href=\"#LiberationSans-114\"/>\n       <use x=\"333.349609\" xlink:href=\"#LiberationSans-97\"/>\n       <use x=\"388.964844\" xlink:href=\"#LiberationSans-116\"/>\n       <use x=\"416.748047\" xlink:href=\"#LiberationSans-101\"/>\n      </g>\n     </g>\n    </g>\n    <g id=\"ytick_2\">\n     <g id=\"line2d_14\"/>\n     <g id=\"text_9\">\n      <!-- zonedratio -->\n      <defs>\n       <path d=\"M 4.046875 0 \nL 4.046875 6.6875 \nL 33.59375 46.046875 \nL 5.71875 46.046875 \nL 5.71875 52.828125 \nL 44 52.828125 \nL 44 46.140625 \nL 14.40625 6.78125 \nL 45.015625 6.78125 \nL 45.015625 0 \nz\n\" id=\"LiberationSans-122\"/>\n       <path d=\"M 40.09375 8.5 \nQ 37.640625 3.421875 33.609375 1.21875 \nQ 29.59375 -0.984375 23.640625 -0.984375 \nQ 13.625 -0.984375 8.90625 5.75 \nQ 4.203125 12.5 4.203125 26.171875 \nQ 4.203125 53.8125 23.640625 53.8125 \nQ 29.640625 53.8125 33.640625 51.609375 \nQ 37.640625 49.421875 40.09375 44.625 \nL 40.1875 44.625 \nL 40.09375 50.53125 \nL 40.09375 72.46875 \nL 48.875 72.46875 \nL 48.875 10.890625 \nQ 48.875 2.640625 49.171875 0 \nL 40.765625 0 \nQ 40.625 0.78125 40.453125 3.609375 \nQ 40.28125 6.453125 40.28125 8.5 \nz\nM 13.421875 26.46875 \nQ 13.421875 15.375 16.34375 10.59375 \nQ 19.28125 5.8125 25.875 5.8125 \nQ 33.34375 5.8125 36.71875 10.984375 \nQ 40.09375 16.15625 40.09375 27.046875 \nQ 40.09375 37.546875 36.71875 42.421875 \nQ 33.34375 47.3125 25.984375 47.3125 \nQ 19.34375 47.3125 16.375 42.40625 \nQ 13.421875 37.5 13.421875 26.46875 \nz\n\" id=\"LiberationSans-100\"/>\n      </defs>\n      <g style=\"fill:#262626;\" transform=\"translate(41.09375 275.676354)scale(0.1 -0.1)\">\n       <use xlink:href=\"#LiberationSans-122\"/>\n       <use x=\"50\" xlink:href=\"#LiberationSans-111\"/>\n       <use x=\"105.615234\" xlink:href=\"#LiberationSans-110\"/>\n       <use x=\"161.230469\" xlink:href=\"#LiberationSans-101\"/>\n       <use x=\"216.845703\" xlink:href=\"#LiberationSans-100\"/>\n       <use x=\"272.460938\" xlink:href=\"#LiberationSans-114\"/>\n       <use x=\"305.761719\" xlink:href=\"#LiberationSans-97\"/>\n       <use x=\"361.376953\" xlink:href=\"#LiberationSans-116\"/>\n       <use x=\"389.160156\" xlink:href=\"#LiberationSans-105\"/>\n       <use x=\"411.376953\" xlink:href=\"#LiberationSans-111\"/>\n      </g>\n     </g>\n    </g>\n    <g id=\"ytick_3\">\n     <g id=\"line2d_15\"/>\n     <g id=\"text_10\">\n      <!-- indusratio -->\n      <defs>\n       <path d=\"M 15.328125 52.828125 \nL 15.328125 19.34375 \nQ 15.328125 14.109375 16.359375 11.21875 \nQ 17.390625 8.34375 19.625 7.078125 \nQ 21.875 5.8125 26.21875 5.8125 \nQ 32.5625 5.8125 36.21875 10.15625 \nQ 39.890625 14.5 39.890625 22.21875 \nL 39.890625 52.828125 \nL 48.6875 52.828125 \nL 48.6875 11.28125 \nQ 48.6875 2.046875 48.96875 0 \nL 40.671875 0 \nQ 40.625 0.25 40.578125 1.3125 \nQ 40.53125 2.390625 40.453125 3.78125 \nQ 40.375 5.171875 40.28125 9.03125 \nL 40.140625 9.03125 \nQ 37.109375 3.5625 33.125 1.28125 \nQ 29.15625 -0.984375 23.25 -0.984375 \nQ 14.546875 -0.984375 10.515625 3.34375 \nQ 6.5 7.671875 6.5 17.625 \nL 6.5 52.828125 \nz\n\" id=\"LiberationSans-117\"/>\n      </defs>\n      <g style=\"fill:#262626;\" transform=\"translate(44.432813 250.509687)scale(0.1 -0.1)\">\n       <use xlink:href=\"#LiberationSans-105\"/>\n       <use x=\"22.216797\" xlink:href=\"#LiberationSans-110\"/>\n       <use x=\"77.832031\" xlink:href=\"#LiberationSans-100\"/>\n       <use x=\"133.447266\" xlink:href=\"#LiberationSans-117\"/>\n       <use x=\"189.0625\" xlink:href=\"#LiberationSans-115\"/>\n       <use x=\"239.0625\" xlink:href=\"#LiberationSans-114\"/>\n       <use x=\"272.363281\" xlink:href=\"#LiberationSans-97\"/>\n       <use x=\"327.978516\" xlink:href=\"#LiberationSans-116\"/>\n       <use x=\"355.761719\" xlink:href=\"#LiberationSans-105\"/>\n       <use x=\"377.978516\" xlink:href=\"#LiberationSans-111\"/>\n      </g>\n     </g>\n    </g>\n    <g id=\"ytick_4\">\n     <g id=\"line2d_16\"/>\n     <g id=\"text_11\">\n      <!-- alongriver -->\n      <defs>\n       <path d=\"M 26.765625 -20.75 \nQ 18.109375 -20.75 12.984375 -17.359375 \nQ 7.859375 -13.96875 6.390625 -7.71875 \nL 15.234375 -6.453125 \nQ 16.109375 -10.109375 19.109375 -12.078125 \nQ 22.125 -14.0625 27 -14.0625 \nQ 40.140625 -14.0625 40.140625 1.3125 \nL 40.140625 9.8125 \nL 40.046875 9.8125 \nQ 37.546875 4.734375 33.203125 2.171875 \nQ 28.859375 -0.390625 23.046875 -0.390625 \nQ 13.328125 -0.390625 8.765625 6.046875 \nQ 4.203125 12.5 4.203125 26.3125 \nQ 4.203125 40.328125 9.109375 46.984375 \nQ 14.015625 53.65625 24.03125 53.65625 \nQ 29.640625 53.65625 33.765625 51.09375 \nQ 37.890625 48.53125 40.140625 43.796875 \nL 40.234375 43.796875 \nQ 40.234375 45.265625 40.421875 48.875 \nQ 40.625 52.484375 40.828125 52.828125 \nL 49.171875 52.828125 \nQ 48.875 50.203125 48.875 41.890625 \nL 48.875 1.515625 \nQ 48.875 -20.75 26.765625 -20.75 \nz\nM 40.140625 26.421875 \nQ 40.140625 32.859375 38.375 37.515625 \nQ 36.625 42.1875 33.421875 44.65625 \nQ 30.21875 47.125 26.171875 47.125 \nQ 19.4375 47.125 16.359375 42.234375 \nQ 13.28125 37.359375 13.28125 26.421875 \nQ 13.28125 15.578125 16.15625 10.84375 \nQ 19.046875 6.109375 26.03125 6.109375 \nQ 30.171875 6.109375 33.390625 8.546875 \nQ 36.625 10.984375 38.375 15.546875 \nQ 40.140625 20.125 40.140625 26.421875 \nz\n\" id=\"LiberationSans-103\"/>\n       <path d=\"M 29.9375 0 \nL 19.53125 0 \nL 0.34375 52.828125 \nL 9.71875 52.828125 \nL 21.34375 18.453125 \nQ 21.96875 16.5 24.703125 6.890625 \nL 26.421875 12.59375 \nL 28.328125 18.359375 \nL 40.328125 52.828125 \nL 49.65625 52.828125 \nz\n\" id=\"LiberationSans-118\"/>\n      </defs>\n      <g style=\"fill:#262626;\" transform=\"translate(43.88125 225.343021)scale(0.1 -0.1)\">\n       <use xlink:href=\"#LiberationSans-97\"/>\n       <use x=\"55.615234\" xlink:href=\"#LiberationSans-108\"/>\n       <use x=\"77.832031\" xlink:href=\"#LiberationSans-111\"/>\n       <use x=\"133.447266\" xlink:href=\"#LiberationSans-110\"/>\n       <use x=\"189.0625\" xlink:href=\"#LiberationSans-103\"/>\n       <use x=\"244.677734\" xlink:href=\"#LiberationSans-114\"/>\n       <use x=\"277.978516\" xlink:href=\"#LiberationSans-105\"/>\n       <use x=\"300.195312\" xlink:href=\"#LiberationSans-118\"/>\n       <use x=\"350.195312\" xlink:href=\"#LiberationSans-101\"/>\n       <use x=\"405.810547\" xlink:href=\"#LiberationSans-114\"/>\n      </g>\n     </g>\n    </g>\n    <g id=\"ytick_5\">\n     <g id=\"line2d_17\"/>\n     <g id=\"text_12\">\n      <!-- NOconc -->\n      <defs>\n       <path d=\"M 52.828125 0 \nL 16.015625 58.59375 \nL 16.265625 53.859375 \nL 16.5 45.703125 \nL 16.5 0 \nL 8.203125 0 \nL 8.203125 68.796875 \nL 19.046875 68.796875 \nL 56.25 9.8125 \nQ 55.671875 19.390625 55.671875 23.6875 \nL 55.671875 68.796875 \nL 64.0625 68.796875 \nL 64.0625 0 \nz\n\" id=\"LiberationSans-78\"/>\n       <path d=\"M 73 34.71875 \nQ 73 23.921875 68.875 15.8125 \nQ 64.75 7.71875 57.03125 3.359375 \nQ 49.3125 -0.984375 38.8125 -0.984375 \nQ 28.21875 -0.984375 20.53125 3.3125 \nQ 12.84375 7.625 8.78125 15.75 \nQ 4.734375 23.875 4.734375 34.71875 \nQ 4.734375 51.21875 13.765625 60.515625 \nQ 22.796875 69.828125 38.921875 69.828125 \nQ 49.421875 69.828125 57.125 65.640625 \nQ 64.84375 61.46875 68.921875 53.515625 \nQ 73 45.5625 73 34.71875 \nz\nM 63.484375 34.71875 \nQ 63.484375 47.5625 57.0625 54.875 \nQ 50.640625 62.203125 38.921875 62.203125 \nQ 27.09375 62.203125 20.640625 54.96875 \nQ 14.203125 47.75 14.203125 34.71875 \nQ 14.203125 21.78125 20.71875 14.1875 \nQ 27.25 6.59375 38.8125 6.59375 \nQ 50.734375 6.59375 57.109375 13.9375 \nQ 63.484375 21.296875 63.484375 34.71875 \nz\n\" id=\"LiberationSans-79\"/>\n      </defs>\n      <g style=\"fill:#262626;\" transform=\"translate(51.667188 200.176354)scale(0.1 -0.1)\">\n       <use xlink:href=\"#LiberationSans-78\"/>\n       <use x=\"72.216797\" xlink:href=\"#LiberationSans-79\"/>\n       <use x=\"150\" xlink:href=\"#LiberationSans-99\"/>\n       <use x=\"200\" xlink:href=\"#LiberationSans-111\"/>\n       <use x=\"255.615234\" xlink:href=\"#LiberationSans-110\"/>\n       <use x=\"311.230469\" xlink:href=\"#LiberationSans-99\"/>\n      </g>\n     </g>\n    </g>\n    <g id=\"ytick_6\">\n     <g id=\"line2d_18\"/>\n     <g id=\"text_13\">\n      <!-- avgrooms -->\n      <g style=\"fill:#262626;\" transform=\"translate(43.885938 175.009687)scale(0.1 -0.1)\">\n       <use xlink:href=\"#LiberationSans-97\"/>\n       <use x=\"55.615234\" xlink:href=\"#LiberationSans-118\"/>\n       <use x=\"105.615234\" xlink:href=\"#LiberationSans-103\"/>\n       <use x=\"161.230469\" xlink:href=\"#LiberationSans-114\"/>\n       <use x=\"194.53125\" xlink:href=\"#LiberationSans-111\"/>\n       <use x=\"250.146484\" xlink:href=\"#LiberationSans-111\"/>\n       <use x=\"305.761719\" xlink:href=\"#LiberationSans-109\"/>\n       <use x=\"389.0625\" xlink:href=\"#LiberationSans-115\"/>\n      </g>\n     </g>\n    </g>\n    <g id=\"ytick_7\">\n     <g id=\"line2d_19\"/>\n     <g id=\"text_14\">\n      <!-- oldhomeration -->\n      <defs>\n       <path d=\"M 15.484375 43.796875 \nQ 18.3125 48.96875 22.28125 51.390625 \nQ 26.265625 53.8125 32.375 53.8125 \nQ 40.96875 53.8125 45.046875 49.53125 \nQ 49.125 45.265625 49.125 35.203125 \nL 49.125 0 \nL 40.28125 0 \nL 40.28125 33.5 \nQ 40.28125 39.0625 39.25 41.765625 \nQ 38.234375 44.484375 35.890625 45.75 \nQ 33.546875 47.015625 29.390625 47.015625 \nQ 23.1875 47.015625 19.453125 42.71875 \nQ 15.71875 38.421875 15.71875 31.15625 \nL 15.71875 0 \nL 6.9375 0 \nL 6.9375 72.46875 \nL 15.71875 72.46875 \nL 15.71875 53.609375 \nQ 15.71875 50.640625 15.546875 47.453125 \nQ 15.375 44.28125 15.328125 43.796875 \nz\n\" id=\"LiberationSans-104\"/>\n      </defs>\n      <g style=\"fill:#262626;\" transform=\"translate(24.420313 149.843021)scale(0.1 -0.1)\">\n       <use xlink:href=\"#LiberationSans-111\"/>\n       <use x=\"55.615234\" xlink:href=\"#LiberationSans-108\"/>\n       <use x=\"77.832031\" xlink:href=\"#LiberationSans-100\"/>\n       <use x=\"133.447266\" xlink:href=\"#LiberationSans-104\"/>\n       <use x=\"189.0625\" xlink:href=\"#LiberationSans-111\"/>\n       <use x=\"244.677734\" xlink:href=\"#LiberationSans-109\"/>\n       <use x=\"327.978516\" xlink:href=\"#LiberationSans-101\"/>\n       <use x=\"383.59375\" xlink:href=\"#LiberationSans-114\"/>\n       <use x=\"416.894531\" xlink:href=\"#LiberationSans-97\"/>\n       <use x=\"472.509766\" xlink:href=\"#LiberationSans-116\"/>\n       <use x=\"500.292969\" xlink:href=\"#LiberationSans-105\"/>\n       <use x=\"522.509766\" xlink:href=\"#LiberationSans-111\"/>\n       <use x=\"578.125\" xlink:href=\"#LiberationSans-110\"/>\n      </g>\n     </g>\n    </g>\n    <g id=\"ytick_8\">\n     <g id=\"line2d_20\"/>\n     <g id=\"text_15\">\n      <!-- distance_centre -->\n      <g style=\"fill:#262626;\" transform=\"translate(17.19375 124.676354)scale(0.1 -0.1)\">\n       <use xlink:href=\"#LiberationSans-100\"/>\n       <use x=\"55.615234\" xlink:href=\"#LiberationSans-105\"/>\n       <use x=\"77.832031\" xlink:href=\"#LiberationSans-115\"/>\n       <use x=\"127.832031\" xlink:href=\"#LiberationSans-116\"/>\n       <use x=\"155.615234\" xlink:href=\"#LiberationSans-97\"/>\n       <use x=\"211.230469\" xlink:href=\"#LiberationSans-110\"/>\n       <use x=\"266.845703\" xlink:href=\"#LiberationSans-99\"/>\n       <use x=\"316.845703\" xlink:href=\"#LiberationSans-101\"/>\n       <use x=\"372.460938\" xlink:href=\"#LiberationSans-95\"/>\n       <use x=\"428.076172\" xlink:href=\"#LiberationSans-99\"/>\n       <use x=\"478.076172\" xlink:href=\"#LiberationSans-101\"/>\n       <use x=\"533.691406\" xlink:href=\"#LiberationSans-110\"/>\n       <use x=\"589.306641\" xlink:href=\"#LiberationSans-116\"/>\n       <use x=\"617.089844\" xlink:href=\"#LiberationSans-114\"/>\n       <use x=\"650.390625\" xlink:href=\"#LiberationSans-101\"/>\n      </g>\n     </g>\n    </g>\n    <g id=\"ytick_9\">\n     <g id=\"line2d_21\"/>\n     <g id=\"text_16\">\n      <!-- access_high -->\n      <g style=\"fill:#262626;\" transform=\"translate(32.201563 99.509687)scale(0.1 -0.1)\">\n       <use xlink:href=\"#LiberationSans-97\"/>\n       <use x=\"55.615234\" xlink:href=\"#LiberationSans-99\"/>\n       <use x=\"105.615234\" xlink:href=\"#LiberationSans-99\"/>\n       <use x=\"155.615234\" xlink:href=\"#LiberationSans-101\"/>\n       <use x=\"211.230469\" xlink:href=\"#LiberationSans-115\"/>\n       <use x=\"261.230469\" xlink:href=\"#LiberationSans-115\"/>\n       <use x=\"311.230469\" xlink:href=\"#LiberationSans-95\"/>\n       <use x=\"366.845703\" xlink:href=\"#LiberationSans-104\"/>\n       <use x=\"422.460938\" xlink:href=\"#LiberationSans-105\"/>\n       <use x=\"444.677734\" xlink:href=\"#LiberationSans-103\"/>\n       <use x=\"500.292969\" xlink:href=\"#LiberationSans-104\"/>\n      </g>\n     </g>\n    </g>\n    <g id=\"ytick_10\">\n     <g id=\"line2d_22\"/>\n     <g id=\"text_17\">\n      <!-- TAX -->\n      <defs>\n       <path d=\"M 35.15625 61.1875 \nL 35.15625 0 \nL 25.875 0 \nL 25.875 61.1875 \nL 2.25 61.1875 \nL 2.25 68.796875 \nL 58.796875 68.796875 \nL 58.796875 61.1875 \nz\n\" id=\"LiberationSans-84\"/>\n       <path d=\"M 56.984375 0 \nL 49.125 20.125 \nL 17.78125 20.125 \nL 9.859375 0 \nL 0.203125 0 \nL 28.265625 68.796875 \nL 38.875 68.796875 \nL 66.5 0 \nz\nM 33.453125 61.765625 \nL 33.015625 60.40625 \nQ 31.78125 56.34375 29.390625 50 \nL 20.609375 27.390625 \nL 46.34375 27.390625 \nL 37.5 50.09375 \nQ 36.140625 53.46875 34.765625 57.71875 \nz\n\" id=\"LiberationSans-65\"/>\n       <path d=\"M 54.296875 0 \nL 33.640625 30.078125 \nL 12.546875 0 \nL 2.25 0 \nL 28.421875 35.75 \nL 4.25 68.796875 \nL 14.546875 68.796875 \nL 33.6875 41.796875 \nL 52.296875 68.796875 \nL 62.59375 68.796875 \nL 39.0625 36.078125 \nL 64.59375 0 \nz\n\" id=\"LiberationSans-88\"/>\n      </defs>\n      <g style=\"fill:#262626;\" transform=\"translate(69.078125 74.343021)scale(0.1 -0.1)\">\n       <use xlink:href=\"#LiberationSans-84\"/>\n       <use x=\"53.708984\" xlink:href=\"#LiberationSans-65\"/>\n       <use x=\"120.408203\" xlink:href=\"#LiberationSans-88\"/>\n      </g>\n     </g>\n    </g>\n    <g id=\"ytick_11\">\n     <g id=\"line2d_23\"/>\n     <g id=\"text_18\">\n      <!-- pupil-teacher-ratio -->\n      <defs>\n       <path d=\"M 51.421875 26.65625 \nQ 51.421875 -0.984375 31.984375 -0.984375 \nQ 19.78125 -0.984375 15.578125 8.203125 \nL 15.328125 8.203125 \nQ 15.53125 7.8125 15.53125 -0.09375 \nL 15.53125 -20.75 \nL 6.734375 -20.75 \nL 6.734375 42.046875 \nQ 6.734375 50.203125 6.453125 52.828125 \nL 14.9375 52.828125 \nQ 14.984375 52.640625 15.078125 51.4375 \nQ 15.1875 50.25 15.3125 47.75 \nQ 15.4375 45.265625 15.4375 44.34375 \nL 15.625 44.34375 \nQ 17.96875 49.21875 21.828125 51.484375 \nQ 25.6875 53.765625 31.984375 53.765625 \nQ 41.75 53.765625 46.578125 47.21875 \nQ 51.421875 40.671875 51.421875 26.65625 \nz\nM 42.1875 26.46875 \nQ 42.1875 37.5 39.203125 42.234375 \nQ 36.234375 46.96875 29.734375 46.96875 \nQ 24.515625 46.96875 21.5625 44.765625 \nQ 18.609375 42.578125 17.0625 37.90625 \nQ 15.53125 33.25 15.53125 25.78125 \nQ 15.53125 15.375 18.84375 10.4375 \nQ 22.171875 5.515625 29.640625 5.515625 \nQ 36.1875 5.515625 39.1875 10.328125 \nQ 42.1875 15.140625 42.1875 26.46875 \nz\n\" id=\"LiberationSans-112\"/>\n       <path d=\"M 4.4375 22.65625 \nL 4.4375 30.46875 \nL 28.859375 30.46875 \nL 28.859375 22.65625 \nz\n\" id=\"LiberationSans-45\"/>\n      </defs>\n      <g style=\"fill:#262626;\" transform=\"translate(7.2 49.176354)scale(0.1 -0.1)\">\n       <use xlink:href=\"#LiberationSans-112\"/>\n       <use x=\"55.615234\" xlink:href=\"#LiberationSans-117\"/>\n       <use x=\"111.230469\" xlink:href=\"#LiberationSans-112\"/>\n       <use x=\"166.845703\" xlink:href=\"#LiberationSans-105\"/>\n       <use x=\"189.0625\" xlink:href=\"#LiberationSans-108\"/>\n       <use x=\"211.279297\" xlink:href=\"#LiberationSans-45\"/>\n       <use x=\"244.580078\" xlink:href=\"#LiberationSans-116\"/>\n       <use x=\"272.363281\" xlink:href=\"#LiberationSans-101\"/>\n       <use x=\"327.978516\" xlink:href=\"#LiberationSans-97\"/>\n       <use x=\"383.59375\" xlink:href=\"#LiberationSans-99\"/>\n       <use x=\"433.59375\" xlink:href=\"#LiberationSans-104\"/>\n       <use x=\"489.208984\" xlink:href=\"#LiberationSans-101\"/>\n       <use x=\"544.824219\" xlink:href=\"#LiberationSans-114\"/>\n       <use x=\"578.125\" xlink:href=\"#LiberationSans-45\"/>\n       <use x=\"611.425781\" xlink:href=\"#LiberationSans-114\"/>\n       <use x=\"644.726562\" xlink:href=\"#LiberationSans-97\"/>\n       <use x=\"700.341797\" xlink:href=\"#LiberationSans-116\"/>\n       <use x=\"728.125\" xlink:href=\"#LiberationSans-105\"/>\n       <use x=\"750.341797\" xlink:href=\"#LiberationSans-111\"/>\n      </g>\n     </g>\n    </g>\n   </g>\n   <g id=\"patch_3\">\n    <path clip-path=\"url(#pd92e759b81)\" d=\"M 286.476033 307.28625 \nL 155.588924 307.28625 \nL 155.588924 287.152917 \nL 286.476033 287.152917 \nz\n\" style=\"fill:#0272a2;\"/>\n   </g>\n   <g id=\"patch_4\">\n    <path clip-path=\"url(#pd92e759b81)\" d=\"M 286.476033 282.119583 \nL 407.972262 282.119583 \nL 407.972262 261.98625 \nL 286.476033 261.98625 \nz\n\" style=\"fill:#0272a2;\"/>\n   </g>\n   <g id=\"patch_5\">\n    <path clip-path=\"url(#pd92e759b81)\" d=\"M 286.476033 256.952917 \nL 123.266948 256.952917 \nL 123.266948 236.819583 \nL 286.476033 236.819583 \nz\n\" style=\"fill:#0272a2;\"/>\n   </g>\n   <g id=\"patch_6\">\n    <path clip-path=\"url(#pd92e759b81)\" d=\"M 286.476033 231.78625 \nL 345.594855 231.78625 \nL 345.594855 211.652917 \nL 286.476033 211.652917 \nz\n\" style=\"fill:#0272a2;\"/>\n   </g>\n   <g id=\"patch_7\">\n    <path clip-path=\"url(#pd92e759b81)\" d=\"M 286.476033 206.619583 \nL 142.425912 206.619583 \nL 142.425912 186.48625 \nL 286.476033 186.48625 \nz\n\" style=\"fill:#0272a2;\"/>\n   </g>\n   <g id=\"patch_8\">\n    <path clip-path=\"url(#pd92e759b81)\" d=\"M 286.476033 181.452917 \nL 520.898153 181.452917 \nL 520.898153 161.319583 \nL 286.476033 161.319583 \nz\n\" style=\"fill:#0272a2;\"/>\n   </g>\n   <g id=\"patch_9\">\n    <path clip-path=\"url(#pd92e759b81)\" d=\"M 286.476033 156.28625 \nL 159.404431 156.28625 \nL 159.404431 136.152917 \nL 286.476033 136.152917 \nz\n\" style=\"fill:#0272a2;\"/>\n   </g>\n   <g id=\"patch_10\">\n    <path clip-path=\"url(#pd92e759b81)\" d=\"M 286.476033 131.119583 \nL 370.721127 131.119583 \nL 370.721127 110.98625 \nL 286.476033 110.98625 \nz\n\" style=\"fill:#0272a2;\"/>\n   </g>\n   <g id=\"patch_11\">\n    <path clip-path=\"url(#pd92e759b81)\" d=\"M 286.476033 105.952917 \nL 157.80014 105.952917 \nL 157.80014 85.819583 \nL 286.476033 85.819583 \nz\n\" style=\"fill:#0272a2;\"/>\n   </g>\n   <g id=\"patch_12\">\n    <path clip-path=\"url(#pd92e759b81)\" d=\"M 286.476033 80.78625 \nL 128.520201 80.78625 \nL 128.520201 60.652917 \nL 286.476033 60.652917 \nz\n\" style=\"fill:#0272a2;\"/>\n   </g>\n   <g id=\"patch_13\">\n    <path clip-path=\"url(#pd92e759b81)\" d=\"M 286.476033 55.619583 \nL 115.079972 55.619583 \nL 115.079972 35.48625 \nL 286.476033 35.48625 \nz\n\" style=\"fill:#0272a2;\"/>\n   </g>\n   <g id=\"patch_14\">\n    <path d=\"M 94.789063 320.87625 \nL 94.789063 21.89625 \n\" style=\"fill:none;stroke:#cccccc;stroke-linecap:square;stroke-linejoin:miter;stroke-width:1.25;\"/>\n   </g>\n   <g id=\"patch_15\">\n    <path d=\"M 541.189062 320.87625 \nL 541.189062 21.89625 \n\" style=\"fill:none;stroke:#cccccc;stroke-linecap:square;stroke-linejoin:miter;stroke-width:1.25;\"/>\n   </g>\n   <g id=\"patch_16\">\n    <path d=\"M 94.789062 320.87625 \nL 541.189062 320.87625 \n\" style=\"fill:none;stroke:#cccccc;stroke-linecap:square;stroke-linejoin:miter;stroke-width:1.25;\"/>\n   </g>\n   <g id=\"patch_17\">\n    <path d=\"M 94.789062 21.89625 \nL 541.189062 21.89625 \n\" style=\"fill:none;stroke:#cccccc;stroke-linecap:square;stroke-linejoin:miter;stroke-width:1.25;\"/>\n   </g>\n   <g id=\"text_19\">\n    <!-- Features correlation with dependent variable -->\n    <defs>\n     <path d=\"M 17.53125 61.1875 \nL 17.53125 35.59375 \nL 55.90625 35.59375 \nL 55.90625 27.875 \nL 17.53125 27.875 \nL 17.53125 0 \nL 8.203125 0 \nL 8.203125 68.796875 \nL 57.078125 68.796875 \nL 57.078125 61.1875 \nz\n\" id=\"LiberationSans-70\"/>\n     <path d=\"M 57.328125 0 \nL 47.125 0 \nL 37.890625 37.359375 \nL 36.140625 45.609375 \nQ 35.6875 43.40625 34.765625 39.28125 \nQ 33.84375 35.15625 24.8125 0 \nL 14.65625 0 \nL -0.140625 52.828125 \nL 8.546875 52.828125 \nL 17.484375 16.9375 \nQ 17.828125 15.765625 19.578125 7.28125 \nL 20.40625 10.890625 \nL 31.453125 52.828125 \nL 40.875 52.828125 \nL 50.09375 16.546875 \nL 52.34375 7.28125 \nL 53.859375 14.0625 \nL 63.875 52.828125 \nL 72.46875 52.828125 \nz\n\" id=\"LiberationSans-119\"/>\n     <path d=\"M 51.421875 26.65625 \nQ 51.421875 -0.984375 31.984375 -0.984375 \nQ 25.984375 -0.984375 22 1.1875 \nQ 18.015625 3.375 15.53125 8.203125 \nL 15.4375 8.203125 \nQ 15.4375 6.6875 15.234375 3.578125 \nQ 15.046875 0.484375 14.9375 0 \nL 6.453125 0 \nQ 6.734375 2.640625 6.734375 10.890625 \nL 6.734375 72.46875 \nL 15.53125 72.46875 \nL 15.53125 51.8125 \nQ 15.53125 48.640625 15.328125 44.34375 \nL 15.53125 44.34375 \nQ 17.96875 49.421875 22 51.609375 \nQ 26.03125 53.8125 31.984375 53.8125 \nQ 42 53.8125 46.703125 47.0625 \nQ 51.421875 40.328125 51.421875 26.65625 \nz\nM 42.1875 26.375 \nQ 42.1875 37.453125 39.25 42.234375 \nQ 36.328125 47.015625 29.734375 47.015625 \nQ 22.3125 47.015625 18.921875 41.9375 \nQ 15.53125 36.859375 15.53125 25.828125 \nQ 15.53125 15.4375 18.84375 10.46875 \nQ 22.171875 5.515625 29.640625 5.515625 \nQ 36.28125 5.515625 39.234375 10.421875 \nQ 42.1875 15.328125 42.1875 26.375 \nz\n\" id=\"LiberationSans-98\"/>\n    </defs>\n    <g style=\"fill:#262626;\" transform=\"translate(199.595 15.89625)scale(0.12 -0.12)\">\n     <use xlink:href=\"#LiberationSans-70\"/>\n     <use x=\"61.083984\" xlink:href=\"#LiberationSans-101\"/>\n     <use x=\"116.699219\" xlink:href=\"#LiberationSans-97\"/>\n     <use x=\"172.314453\" xlink:href=\"#LiberationSans-116\"/>\n     <use x=\"200.097656\" xlink:href=\"#LiberationSans-117\"/>\n     <use x=\"255.712891\" xlink:href=\"#LiberationSans-114\"/>\n     <use x=\"289.013672\" xlink:href=\"#LiberationSans-101\"/>\n     <use x=\"344.628906\" xlink:href=\"#LiberationSans-115\"/>\n     <use x=\"394.628906\" xlink:href=\"#LiberationSans-32\"/>\n     <use x=\"422.412109\" xlink:href=\"#LiberationSans-99\"/>\n     <use x=\"472.412109\" xlink:href=\"#LiberationSans-111\"/>\n     <use x=\"528.027344\" xlink:href=\"#LiberationSans-114\"/>\n     <use x=\"561.328125\" xlink:href=\"#LiberationSans-114\"/>\n     <use x=\"594.628906\" xlink:href=\"#LiberationSans-101\"/>\n     <use x=\"650.244141\" xlink:href=\"#LiberationSans-108\"/>\n     <use x=\"672.460938\" xlink:href=\"#LiberationSans-97\"/>\n     <use x=\"728.076172\" xlink:href=\"#LiberationSans-116\"/>\n     <use x=\"755.859375\" xlink:href=\"#LiberationSans-105\"/>\n     <use x=\"778.076172\" xlink:href=\"#LiberationSans-111\"/>\n     <use x=\"833.691406\" xlink:href=\"#LiberationSans-110\"/>\n     <use x=\"889.306641\" xlink:href=\"#LiberationSans-32\"/>\n     <use x=\"917.089844\" xlink:href=\"#LiberationSans-119\"/>\n     <use x=\"989.306641\" xlink:href=\"#LiberationSans-105\"/>\n     <use x=\"1011.523438\" xlink:href=\"#LiberationSans-116\"/>\n     <use x=\"1039.306641\" xlink:href=\"#LiberationSans-104\"/>\n     <use x=\"1094.921875\" xlink:href=\"#LiberationSans-32\"/>\n     <use x=\"1122.705078\" xlink:href=\"#LiberationSans-100\"/>\n     <use x=\"1178.320312\" xlink:href=\"#LiberationSans-101\"/>\n     <use x=\"1233.935547\" xlink:href=\"#LiberationSans-112\"/>\n     <use x=\"1289.550781\" xlink:href=\"#LiberationSans-101\"/>\n     <use x=\"1345.166016\" xlink:href=\"#LiberationSans-110\"/>\n     <use x=\"1400.78125\" xlink:href=\"#LiberationSans-100\"/>\n     <use x=\"1456.396484\" xlink:href=\"#LiberationSans-101\"/>\n     <use x=\"1512.011719\" xlink:href=\"#LiberationSans-110\"/>\n     <use x=\"1567.626953\" xlink:href=\"#LiberationSans-116\"/>\n     <use x=\"1595.410156\" xlink:href=\"#LiberationSans-32\"/>\n     <use x=\"1623.193359\" xlink:href=\"#LiberationSans-118\"/>\n     <use x=\"1673.193359\" xlink:href=\"#LiberationSans-97\"/>\n     <use x=\"1728.808594\" xlink:href=\"#LiberationSans-114\"/>\n     <use x=\"1762.109375\" xlink:href=\"#LiberationSans-105\"/>\n     <use x=\"1784.326172\" xlink:href=\"#LiberationSans-97\"/>\n     <use x=\"1839.941406\" xlink:href=\"#LiberationSans-98\"/>\n     <use x=\"1895.556641\" xlink:href=\"#LiberationSans-108\"/>\n     <use x=\"1917.773438\" xlink:href=\"#LiberationSans-101\"/>\n    </g>\n   </g>\n  </g>\n </g>\n <defs>\n  <clipPath id=\"pd92e759b81\">\n   <rect height=\"298.98\" width=\"446.4\" x=\"94.789063\" y=\"21.89625\"/>\n  </clipPath>\n </defs>\n</svg>\n",
      "image/png": "[encoded data removed]"
     },
     "metadata": {}
    },
    {
     "output_type": "execute_result",
     "data": {
      "text/plain": "<matplotlib.axes._subplots.AxesSubplot at 0x7f3390e565c0>"
     },
     "metadata": {},
     "execution_count": 43
    }
   ],
   "source": [
    "from yellowbrick.target import FeatureCorrelation\n",
    "visualizer=FeatureCorrelation(labels=feature_names)\n",
    "visualizer.fit(features,target)\n",
    "visualizer.poof()"
   ]
  },
  {
   "cell_type": "code",
   "execution_count": 44,
   "metadata": {},
   "outputs": [],
   "source": [
    "from sklearn.feature_selection import SelectKBest,f_regression"
   ]
  },
  {
   "cell_type": "code",
   "execution_count": 45,
   "metadata": {},
   "outputs": [],
   "source": [
    "univariate_regressor=SelectKBest(f_regression,k=5).fit(features,target)"
   ]
  },
  {
   "cell_type": "code",
   "execution_count": 46,
   "metadata": {},
   "outputs": [
    {
     "output_type": "execute_result",
     "data": {
      "text/plain": "array([False, False,  True, False,  True,  True, False, False, False,\n        True,  True])"
     },
     "metadata": {},
     "execution_count": 46
    }
   ],
   "source": [
    "feature_mask=univariate_regressor.get_support()\n",
    "feature_mask"
   ]
  },
  {
   "cell_type": "code",
   "execution_count": 54,
   "metadata": {},
   "outputs": [
    {
     "output_type": "execute_result",
     "data": {
      "text/plain": "Index(['indusratio', 'NOconc', 'avgrooms', 'TAX', 'pupil-teacher-ratio'], dtype='object')"
     },
     "metadata": {},
     "execution_count": 54
    }
   ],
   "source": [
    "features.columns[feature_mask]"
   ]
  },
  {
   "cell_type": "code",
   "execution_count": 55,
   "metadata": {},
   "outputs": [
    {
     "output_type": "execute_result",
     "data": {
      "text/plain": "array([ 89.27867007,  75.08340878, 153.982021  ,  15.95925779,\n       112.35134671, 470.92252602,  83.29994976,  33.50345866,\n        85.77751739, 141.48567511, 175.33780624])"
     },
     "metadata": {},
     "execution_count": 55
    }
   ],
   "source": [
    "univariate_regressor.scores_"
   ]
  },
  {
   "cell_type": "code",
   "execution_count": 57,
   "metadata": {},
   "outputs": [
    {
     "output_type": "execute_result",
     "data": {
      "text/plain": "                Feature       Score\n5              avgrooms  470.922526\n10  pupil-teacher-ratio  175.337806\n2            indusratio  153.982021\n9                   TAX  141.485675\n4                NOconc  112.351347\n0            crime_rate   89.278670\n8           access_high   85.777517\n6         oldhomeration   83.299950\n1            zonedratio   75.083409\n7       distance_centre   33.503459\n3            alongriver   15.959258",
      "text/html": "<div>\n<style scoped>\n    .dataframe tbody tr th:only-of-type {\n        vertical-align: middle;\n    }\n\n    .dataframe tbody tr th {\n        vertical-align: top;\n    }\n\n    .dataframe thead th {\n        text-align: right;\n    }\n</style>\n<table border=\"1\" class=\"dataframe\">\n  <thead>\n    <tr style=\"text-align: right;\">\n      <th></th>\n      <th>Feature</th>\n      <th>Score</th>\n    </tr>\n  </thead>\n  <tbody>\n    <tr>\n      <th>5</th>\n      <td>avgrooms</td>\n      <td>470.922526</td>\n    </tr>\n    <tr>\n      <th>10</th>\n      <td>pupil-teacher-ratio</td>\n      <td>175.337806</td>\n    </tr>\n    <tr>\n      <th>2</th>\n      <td>indusratio</td>\n      <td>153.982021</td>\n    </tr>\n    <tr>\n      <th>9</th>\n      <td>TAX</td>\n      <td>141.485675</td>\n    </tr>\n    <tr>\n      <th>4</th>\n      <td>NOconc</td>\n      <td>112.351347</td>\n    </tr>\n    <tr>\n      <th>0</th>\n      <td>crime_rate</td>\n      <td>89.278670</td>\n    </tr>\n    <tr>\n      <th>8</th>\n      <td>access_high</td>\n      <td>85.777517</td>\n    </tr>\n    <tr>\n      <th>6</th>\n      <td>oldhomeration</td>\n      <td>83.299950</td>\n    </tr>\n    <tr>\n      <th>1</th>\n      <td>zonedratio</td>\n      <td>75.083409</td>\n    </tr>\n    <tr>\n      <th>7</th>\n      <td>distance_centre</td>\n      <td>33.503459</td>\n    </tr>\n    <tr>\n      <th>3</th>\n      <td>alongriver</td>\n      <td>15.959258</td>\n    </tr>\n  </tbody>\n</table>\n</div>"
     },
     "metadata": {},
     "execution_count": 57
    }
   ],
   "source": [
    "pd.DataFrame({'Feature':features.columns,\n",
    "                'Score':univariate_regressor.scores_}).sort_values(by='Score',ascending=False)"
   ]
  },
  {
   "cell_type": "code",
   "execution_count": 58,
   "metadata": {},
   "outputs": [
    {
     "output_type": "execute_result",
     "data": {
      "text/plain": "              Features\n0           indusratio\n1               NOconc\n2             avgrooms\n3                  TAX\n4  pupil-teacher-ratio",
      "text/html": "<div>\n<style scoped>\n    .dataframe tbody tr th:only-of-type {\n        vertical-align: middle;\n    }\n\n    .dataframe tbody tr th {\n        vertical-align: top;\n    }\n\n    .dataframe thead th {\n        text-align: right;\n    }\n</style>\n<table border=\"1\" class=\"dataframe\">\n  <thead>\n    <tr style=\"text-align: right;\">\n      <th></th>\n      <th>Features</th>\n    </tr>\n  </thead>\n  <tbody>\n    <tr>\n      <th>0</th>\n      <td>indusratio</td>\n    </tr>\n    <tr>\n      <th>1</th>\n      <td>NOconc</td>\n    </tr>\n    <tr>\n      <th>2</th>\n      <td>avgrooms</td>\n    </tr>\n    <tr>\n      <th>3</th>\n      <td>TAX</td>\n    </tr>\n    <tr>\n      <th>4</th>\n      <td>pupil-teacher-ratio</td>\n    </tr>\n  </tbody>\n</table>\n</div>"
     },
     "metadata": {},
     "execution_count": 58
    }
   ],
   "source": [
    "univ_df=pd.DataFrame({'Features': features.columns[feature_mask]})\n",
    "univ_df"
   ]
  },
  {
   "cell_type": "markdown",
   "metadata": {},
   "source": [
    "## Feature Selection using Wrapper functions(Recursive Eliminations of features)"
   ]
  },
  {
   "cell_type": "code",
   "execution_count": 59,
   "metadata": {},
   "outputs": [],
   "source": [
    "from sklearn.linear_model import LinearRegression\n",
    "from sklearn.feature_selection import RFE\n",
    "model=LinearRegression()"
   ]
  },
  {
   "cell_type": "markdown",
   "metadata": {},
   "source": [
    "### RFE= Recursive Feature Elimination"
   ]
  },
  {
   "cell_type": "code",
   "execution_count": 60,
   "metadata": {},
   "outputs": [
    {
     "output_type": "execute_result",
     "data": {
      "text/plain": "RFE(estimator=LinearRegression(copy_X=True, fit_intercept=True, n_jobs=None,\n                               normalize=False),\n    n_features_to_select=5, step=1, verbose=0)"
     },
     "metadata": {},
     "execution_count": 60
    }
   ],
   "source": [
    "rfe=RFE(estimator=model,n_features_to_select=5,step=1)\n",
    "rfe.fit(features,target)"
   ]
  },
  {
   "cell_type": "code",
   "execution_count": 61,
   "metadata": {},
   "outputs": [
    {
     "output_type": "execute_result",
     "data": {
      "text/plain": "Index(['alongriver', 'NOconc', 'avgrooms', 'distance_centre',\n       'pupil-teacher-ratio'],\n      dtype='object')"
     },
     "metadata": {},
     "execution_count": 61
    }
   ],
   "source": [
    "rfe_features=features.columns[rfe.support_]\n",
    "rfe_features"
   ]
  },
  {
   "cell_type": "code",
   "execution_count": 63,
   "metadata": {},
   "outputs": [
    {
     "output_type": "execute_result",
     "data": {
      "text/plain": "                Feature  Rank\n3            alongriver     1\n4                NOconc     1\n5              avgrooms     1\n7       distance_centre     1\n10  pupil-teacher-ratio     1\n0            crime_rate     2\n2            indusratio     3\n8           access_high     4\n6         oldhomeration     5\n1            zonedratio     6\n9                   TAX     7",
      "text/html": "<div>\n<style scoped>\n    .dataframe tbody tr th:only-of-type {\n        vertical-align: middle;\n    }\n\n    .dataframe tbody tr th {\n        vertical-align: top;\n    }\n\n    .dataframe thead th {\n        text-align: right;\n    }\n</style>\n<table border=\"1\" class=\"dataframe\">\n  <thead>\n    <tr style=\"text-align: right;\">\n      <th></th>\n      <th>Feature</th>\n      <th>Rank</th>\n    </tr>\n  </thead>\n  <tbody>\n    <tr>\n      <th>3</th>\n      <td>alongriver</td>\n      <td>1</td>\n    </tr>\n    <tr>\n      <th>4</th>\n      <td>NOconc</td>\n      <td>1</td>\n    </tr>\n    <tr>\n      <th>5</th>\n      <td>avgrooms</td>\n      <td>1</td>\n    </tr>\n    <tr>\n      <th>7</th>\n      <td>distance_centre</td>\n      <td>1</td>\n    </tr>\n    <tr>\n      <th>10</th>\n      <td>pupil-teacher-ratio</td>\n      <td>1</td>\n    </tr>\n    <tr>\n      <th>0</th>\n      <td>crime_rate</td>\n      <td>2</td>\n    </tr>\n    <tr>\n      <th>2</th>\n      <td>indusratio</td>\n      <td>3</td>\n    </tr>\n    <tr>\n      <th>8</th>\n      <td>access_high</td>\n      <td>4</td>\n    </tr>\n    <tr>\n      <th>6</th>\n      <td>oldhomeration</td>\n      <td>5</td>\n    </tr>\n    <tr>\n      <th>1</th>\n      <td>zonedratio</td>\n      <td>6</td>\n    </tr>\n    <tr>\n      <th>9</th>\n      <td>TAX</td>\n      <td>7</td>\n    </tr>\n  </tbody>\n</table>\n</div>"
     },
     "metadata": {},
     "execution_count": 63
    }
   ],
   "source": [
    "pd.DataFrame({'Feature':features.columns,'Rank':rfe.ranking_}).sort_values(by='Rank',ascending=True)"
   ]
  },
  {
   "cell_type": "code",
   "execution_count": 65,
   "metadata": {},
   "outputs": [
    {
     "output_type": "execute_result",
     "data": {
      "text/plain": "          RFE_features\n0           alongriver\n1               NOconc\n2             avgrooms\n3      distance_centre\n4  pupil-teacher-ratio",
      "text/html": "<div>\n<style scoped>\n    .dataframe tbody tr th:only-of-type {\n        vertical-align: middle;\n    }\n\n    .dataframe tbody tr th {\n        vertical-align: top;\n    }\n\n    .dataframe thead th {\n        text-align: right;\n    }\n</style>\n<table border=\"1\" class=\"dataframe\">\n  <thead>\n    <tr style=\"text-align: right;\">\n      <th></th>\n      <th>RFE_features</th>\n    </tr>\n  </thead>\n  <tbody>\n    <tr>\n      <th>0</th>\n      <td>alongriver</td>\n    </tr>\n    <tr>\n      <th>1</th>\n      <td>NOconc</td>\n    </tr>\n    <tr>\n      <th>2</th>\n      <td>avgrooms</td>\n    </tr>\n    <tr>\n      <th>3</th>\n      <td>distance_centre</td>\n    </tr>\n    <tr>\n      <th>4</th>\n      <td>pupil-teacher-ratio</td>\n    </tr>\n  </tbody>\n</table>\n</div>"
     },
     "metadata": {},
     "execution_count": 65
    }
   ],
   "source": [
    "rfe_df=pd.DataFrame({'RFE_features':rfe_features})\n",
    "rfe_df"
   ]
  },
  {
   "cell_type": "markdown",
   "metadata": {},
   "source": [
    "## Continuous Forward and backward Regression to take into account mose useful features "
   ]
  },
  {
   "cell_type": "code",
   "execution_count": 66,
   "metadata": {},
   "outputs": [],
   "source": [
    "from mlxtend.feature_selection import SequentialFeatureSelector"
   ]
  },
  {
   "cell_type": "code",
   "execution_count": 84,
   "metadata": {},
   "outputs": [],
   "source": [
    "feature_selector=SequentialFeatureSelector(LinearRegression(),k_features=5,forward=False,scoring='neg_mean_squared_error',cv=4)"
   ]
  },
  {
   "cell_type": "code",
   "execution_count": 85,
   "metadata": {},
   "outputs": [],
   "source": [
    "filtered_features=feature_selector.fit(features,target)"
   ]
  },
  {
   "cell_type": "code",
   "execution_count": 86,
   "metadata": {},
   "outputs": [
    {
     "output_type": "execute_result",
     "data": {
      "text/plain": "   Backward_Regression\n0           indusratio\n1             avgrooms\n2        oldhomeration\n3      distance_centre\n4  pupil-teacher-ratio",
      "text/html": "<div>\n<style scoped>\n    .dataframe tbody tr th:only-of-type {\n        vertical-align: middle;\n    }\n\n    .dataframe tbody tr th {\n        vertical-align: top;\n    }\n\n    .dataframe thead th {\n        text-align: right;\n    }\n</style>\n<table border=\"1\" class=\"dataframe\">\n  <thead>\n    <tr style=\"text-align: right;\">\n      <th></th>\n      <th>Backward_Regression</th>\n    </tr>\n  </thead>\n  <tbody>\n    <tr>\n      <th>0</th>\n      <td>indusratio</td>\n    </tr>\n    <tr>\n      <th>1</th>\n      <td>avgrooms</td>\n    </tr>\n    <tr>\n      <th>2</th>\n      <td>oldhomeration</td>\n    </tr>\n    <tr>\n      <th>3</th>\n      <td>distance_centre</td>\n    </tr>\n    <tr>\n      <th>4</th>\n      <td>pupil-teacher-ratio</td>\n    </tr>\n  </tbody>\n</table>\n</div>"
     },
     "metadata": {},
     "execution_count": 86
    }
   ],
   "source": [
    "backward_features=list(filtered_features.k_feature_names_)\n",
    "backward_features\n",
    "back_df=pd.DataFrame({'Backward_Regression':backward_features})\n",
    "back_df"
   ]
  },
  {
   "cell_type": "code",
   "execution_count": 87,
   "metadata": {},
   "outputs": [
    {
     "output_type": "execute_result",
     "data": {
      "text/plain": "    Forward_Regression\n0               NOconc\n1             avgrooms\n2        oldhomeration\n3      distance_centre\n4  pupil-teacher-ratio",
      "text/html": "<div>\n<style scoped>\n    .dataframe tbody tr th:only-of-type {\n        vertical-align: middle;\n    }\n\n    .dataframe tbody tr th {\n        vertical-align: top;\n    }\n\n    .dataframe thead th {\n        text-align: right;\n    }\n</style>\n<table border=\"1\" class=\"dataframe\">\n  <thead>\n    <tr style=\"text-align: right;\">\n      <th></th>\n      <th>Forward_Regression</th>\n    </tr>\n  </thead>\n  <tbody>\n    <tr>\n      <th>0</th>\n      <td>NOconc</td>\n    </tr>\n    <tr>\n      <th>1</th>\n      <td>avgrooms</td>\n    </tr>\n    <tr>\n      <th>2</th>\n      <td>oldhomeration</td>\n    </tr>\n    <tr>\n      <th>3</th>\n      <td>distance_centre</td>\n    </tr>\n    <tr>\n      <th>4</th>\n      <td>pupil-teacher-ratio</td>\n    </tr>\n  </tbody>\n</table>\n</div>"
     },
     "metadata": {},
     "execution_count": 87
    }
   ],
   "source": [
    "feature_selector=SequentialFeatureSelector(LinearRegression(),k_features=5,forward=True,scoring='neg_mean_squared_error',cv=4)\n",
    "filtered_features=feature_selector.fit(features,target)\n",
    "forward_features=list(filtered_features.k_feature_names_)\n",
    "forward_features\n",
    "for_df=pd.DataFrame({'Forward_Regression':forward_features})\n",
    "for_df"
   ]
  },
  {
   "cell_type": "markdown",
   "metadata": {},
   "source": [
    "## Feature Selection using Embedded Models"
   ]
  },
  {
   "cell_type": "code",
   "execution_count": 72,
   "metadata": {},
   "outputs": [
    {
     "output_type": "execute_result",
     "data": {
      "text/plain": "Lasso(alpha=1, copy_X=True, fit_intercept=True, max_iter=1000, normalize=False,\n      positive=False, precompute=False, random_state=None, selection='cyclic',\n      tol=0.0001, warm_start=False)"
     },
     "metadata": {},
     "execution_count": 72
    }
   ],
   "source": [
    "from sklearn.linear_model import Lasso\n",
    "lasso=Lasso(alpha=1)\n",
    "lasso.fit(features,target)"
   ]
  },
  {
   "cell_type": "code",
   "execution_count": 73,
   "metadata": {},
   "outputs": [],
   "source": [
    "lasso_coef=pd.DataFrame({'Feature':features.columns,\"Lasso_coeff\":lasso.coef_}).sort_values(by='Lasso_coeff',ascending=False)"
   ]
  },
  {
   "cell_type": "code",
   "execution_count": 74,
   "metadata": {},
   "outputs": [
    {
     "output_type": "execute_result",
     "data": {
      "text/plain": "                Feature  Lasso_coeff\n5              avgrooms     4.397745\n8           access_high     0.197258\n1            zonedratio     0.040649\n3            alongriver     0.000000\n4                NOconc    -0.000000\n9                   TAX    -0.016446\n6         oldhomeration    -0.045350\n2            indusratio    -0.087972\n0            crime_rate    -0.165437\n7       distance_centre    -0.674788\n10  pupil-teacher-ratio    -0.749818",
      "text/html": "<div>\n<style scoped>\n    .dataframe tbody tr th:only-of-type {\n        vertical-align: middle;\n    }\n\n    .dataframe tbody tr th {\n        vertical-align: top;\n    }\n\n    .dataframe thead th {\n        text-align: right;\n    }\n</style>\n<table border=\"1\" class=\"dataframe\">\n  <thead>\n    <tr style=\"text-align: right;\">\n      <th></th>\n      <th>Feature</th>\n      <th>Lasso_coeff</th>\n    </tr>\n  </thead>\n  <tbody>\n    <tr>\n      <th>5</th>\n      <td>avgrooms</td>\n      <td>4.397745</td>\n    </tr>\n    <tr>\n      <th>8</th>\n      <td>access_high</td>\n      <td>0.197258</td>\n    </tr>\n    <tr>\n      <th>1</th>\n      <td>zonedratio</td>\n      <td>0.040649</td>\n    </tr>\n    <tr>\n      <th>3</th>\n      <td>alongriver</td>\n      <td>0.000000</td>\n    </tr>\n    <tr>\n      <th>4</th>\n      <td>NOconc</td>\n      <td>-0.000000</td>\n    </tr>\n    <tr>\n      <th>9</th>\n      <td>TAX</td>\n      <td>-0.016446</td>\n    </tr>\n    <tr>\n      <th>6</th>\n      <td>oldhomeration</td>\n      <td>-0.045350</td>\n    </tr>\n    <tr>\n      <th>2</th>\n      <td>indusratio</td>\n      <td>-0.087972</td>\n    </tr>\n    <tr>\n      <th>0</th>\n      <td>crime_rate</td>\n      <td>-0.165437</td>\n    </tr>\n    <tr>\n      <th>7</th>\n      <td>distance_centre</td>\n      <td>-0.674788</td>\n    </tr>\n    <tr>\n      <th>10</th>\n      <td>pupil-teacher-ratio</td>\n      <td>-0.749818</td>\n    </tr>\n  </tbody>\n</table>\n</div>"
     },
     "metadata": {},
     "execution_count": 74
    }
   ],
   "source": [
    "lasso_coef"
   ]
  },
  {
   "cell_type": "code",
   "execution_count": 79,
   "metadata": {},
   "outputs": [],
   "source": [
    "lasso_coef['Lasso_coeff']=abs(lasso_coef['Lasso_coeff'])\n",
    "lasso_df= lasso_coef.sort_values(by='Lasso_coeff',ascending=False).head(5)"
   ]
  },
  {
   "cell_type": "code",
   "execution_count": 81,
   "metadata": {},
   "outputs": [
    {
     "output_type": "execute_result",
     "data": {
      "text/plain": "          Lasso_Method\n0             avgrooms\n1  pupil-teacher-ratio\n2      distance_centre\n3          access_high\n4           crime_rate",
      "text/html": "<div>\n<style scoped>\n    .dataframe tbody tr th:only-of-type {\n        vertical-align: middle;\n    }\n\n    .dataframe tbody tr th {\n        vertical-align: top;\n    }\n\n    .dataframe thead th {\n        text-align: right;\n    }\n</style>\n<table border=\"1\" class=\"dataframe\">\n  <thead>\n    <tr style=\"text-align: right;\">\n      <th></th>\n      <th>Lasso_Method</th>\n    </tr>\n  </thead>\n  <tbody>\n    <tr>\n      <th>0</th>\n      <td>avgrooms</td>\n    </tr>\n    <tr>\n      <th>1</th>\n      <td>pupil-teacher-ratio</td>\n    </tr>\n    <tr>\n      <th>2</th>\n      <td>distance_centre</td>\n    </tr>\n    <tr>\n      <th>3</th>\n      <td>access_high</td>\n    </tr>\n    <tr>\n      <th>4</th>\n      <td>crime_rate</td>\n    </tr>\n  </tbody>\n</table>\n</div>"
     },
     "metadata": {},
     "execution_count": 81
    }
   ],
   "source": [
    "lasso_df=pd.DataFrame({'Lasso_Method':lasso_df['Feature'].values})\n",
    "lasso_df"
   ]
  },
  {
   "cell_type": "markdown",
   "metadata": {},
   "source": [
    "## List of features selected features using different methods"
   ]
  },
  {
   "cell_type": "code",
   "execution_count": 88,
   "metadata": {},
   "outputs": [
    {
     "output_type": "execute_result",
     "data": {
      "text/plain": "              Features         RFE_features   Forward_Regression  \\\n0           indusratio           alongriver               NOconc   \n1               NOconc               NOconc             avgrooms   \n2             avgrooms             avgrooms        oldhomeration   \n3                  TAX      distance_centre      distance_centre   \n4  pupil-teacher-ratio  pupil-teacher-ratio  pupil-teacher-ratio   \n\n   Backward_Regression         Lasso_Method  \n0           indusratio             avgrooms  \n1             avgrooms  pupil-teacher-ratio  \n2        oldhomeration      distance_centre  \n3      distance_centre          access_high  \n4  pupil-teacher-ratio           crime_rate  ",
      "text/html": "<div>\n<style scoped>\n    .dataframe tbody tr th:only-of-type {\n        vertical-align: middle;\n    }\n\n    .dataframe tbody tr th {\n        vertical-align: top;\n    }\n\n    .dataframe thead th {\n        text-align: right;\n    }\n</style>\n<table border=\"1\" class=\"dataframe\">\n  <thead>\n    <tr style=\"text-align: right;\">\n      <th></th>\n      <th>Features</th>\n      <th>RFE_features</th>\n      <th>Forward_Regression</th>\n      <th>Backward_Regression</th>\n      <th>Lasso_Method</th>\n    </tr>\n  </thead>\n  <tbody>\n    <tr>\n      <th>0</th>\n      <td>indusratio</td>\n      <td>alongriver</td>\n      <td>NOconc</td>\n      <td>indusratio</td>\n      <td>avgrooms</td>\n    </tr>\n    <tr>\n      <th>1</th>\n      <td>NOconc</td>\n      <td>NOconc</td>\n      <td>avgrooms</td>\n      <td>avgrooms</td>\n      <td>pupil-teacher-ratio</td>\n    </tr>\n    <tr>\n      <th>2</th>\n      <td>avgrooms</td>\n      <td>avgrooms</td>\n      <td>oldhomeration</td>\n      <td>oldhomeration</td>\n      <td>distance_centre</td>\n    </tr>\n    <tr>\n      <th>3</th>\n      <td>TAX</td>\n      <td>distance_centre</td>\n      <td>distance_centre</td>\n      <td>distance_centre</td>\n      <td>access_high</td>\n    </tr>\n    <tr>\n      <th>4</th>\n      <td>pupil-teacher-ratio</td>\n      <td>pupil-teacher-ratio</td>\n      <td>pupil-teacher-ratio</td>\n      <td>pupil-teacher-ratio</td>\n      <td>crime_rate</td>\n    </tr>\n  </tbody>\n</table>\n</div>"
     },
     "metadata": {},
     "execution_count": 88
    }
   ],
   "source": [
    "feature_df=[univ_df,rfe_df,for_df,back_df,lasso_df]\n",
    "final_df=pd.concat(feature_df,axis=1)\n",
    "final_df"
   ]
  },
  {
   "cell_type": "markdown",
   "metadata": {},
   "source": [
    "## Applying the list of features to get a best set of features"
   ]
  },
  {
   "cell_type": "code",
   "execution_count": 89,
   "metadata": {},
   "outputs": [],
   "source": [
    "from sklearn.model_selection import train_test_split\n",
    "from sklearn.metrics import r2_score, mean_squared_error"
   ]
  },
  {
   "cell_type": "code",
   "execution_count": 91,
   "metadata": {},
   "outputs": [],
   "source": [
    "results=[]\n",
    "def best_score(name,x,y):\n",
    "    x_train,x_test,y_train,y_test=train_test_split(x,y,test_size=0.3)\n",
    "    linear=LinearRegression(normalize=True).fit(x_train,y_train)\n",
    "    print(name)\n",
    "    print(\"Training Score : {}\".format(linear.score(x_train,y_train)))\n",
    "    y_pred=linear.predict(x_test)\n",
    "    print(\"r2 Score : {}\".format(r2_score(y_test,y_pred)))"
   ]
  },
  {
   "cell_type": "code",
   "execution_count": 92,
   "metadata": {},
   "outputs": [
    {
     "output_type": "stream",
     "name": "stdout",
     "text": "Univariate\nTraining Score : 0.5705703204819307\nr2 Score : 0.6905069513297926\n"
    }
   ],
   "source": [
    "best_score(\"Univariate\",features[final_df['Features'].values],target)"
   ]
  },
  {
   "cell_type": "code",
   "execution_count": 93,
   "metadata": {},
   "outputs": [
    {
     "output_type": "stream",
     "name": "stdout",
     "text": "Recursive Factor elimination\nTraining Score : 0.6217914351657873\nr2 Score : 0.6575221647315604\nForward regression\nTraining Score : 0.6328379048160993\nr2 Score : 0.6246800827042667\nBackward Regression\nTraining Score : 0.6384432877859948\nr2 Score : 0.5473770899711601\nLasso Regression\nTraining Score : 0.6052646057307498\nr2 Score : 0.5739628370503776\n"
    }
   ],
   "source": [
    "best_score(\"Recursive Factor elimination\",features[final_df['RFE_features'].values],target)\n",
    "best_score(\"Forward regression\",features[final_df['Forward_Regression'].values],target)\n",
    "best_score(\"Backward Regression\",features[final_df['Backward_Regression'].values],target)\n",
    "best_score(\"Lasso Regression\",features[final_df['Lasso_Method'].values],target)"
   ]
  },
  {
   "cell_type": "code",
   "execution_count": null,
   "metadata": {},
   "outputs": [],
   "source": []
  }
 ],
 "metadata": {
  "kernelspec": {
   "display_name": "Python 3.6.9 64-bit",
   "language": "python",
   "name": "python36964bit34f49190624f45e4adb64b3571310d51"
  },
  "language_info": {
   "codemirror_mode": {
    "name": "ipython",
    "version": 3
   },
   "file_extension": ".py",
   "mimetype": "text/x-python",
   "name": "python",
   "nbconvert_exporter": "python",
   "pygments_lexer": "ipython3",
   "version": "2.7.17-final"
  }
 },
 "nbformat": 4,
 "nbformat_minor": 4
}